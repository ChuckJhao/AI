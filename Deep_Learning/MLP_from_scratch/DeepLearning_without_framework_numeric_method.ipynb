{
 "cells": [
  {
   "cell_type": "markdown",
   "metadata": {
    "colab_type": "text",
    "id": "watazj1BwIGm"
   },
   "source": [
    "# 利用數值微分方法，找到函數的微分 (偏微分) 解\n",
    "## df(x) / dx = lim h-> 0 (f(x+h) - f(x)) / h"
   ]
  },
  {
   "cell_type": "code",
   "execution_count": 1,
   "metadata": {
    "colab": {
     "autoexec": {
      "startup": false,
      "wait_interval": 0
     }
    },
    "colab_type": "code",
    "id": "e0KOk9NPwIGr"
   },
   "outputs": [
    {
     "name": "stderr",
     "output_type": "stream",
     "text": [
      "Using TensorFlow backend.\n"
     ]
    }
   ],
   "source": [
    "import numpy as np\n",
    "import pickle\n",
    "import matplotlib.pyplot as plt\n",
    "from tqdm import tqdm\n",
    "from keras.utils import np_utils\n",
    "\n",
    "%matplotlib inline\n",
    "\n",
    "!pip install -q tqdm "
   ]
  },
  {
   "cell_type": "markdown",
   "metadata": {
    "colab_type": "text",
    "id": "U5LuK5VwwIGx"
   },
   "source": [
    "## 一個簡單的方程式\n",
    "$ f(x) = 0.01x^2 + 0.1x $"
   ]
  },
  {
   "cell_type": "code",
   "execution_count": 2,
   "metadata": {
    "colab": {
     "autoexec": {
      "startup": false,
      "wait_interval": 0
     }
    },
    "colab_type": "code",
    "id": "ZNj7ECMHwIG0"
   },
   "outputs": [],
   "source": [
    "# Define a target function\n",
    "def my_function(x):\n",
    "    # y = 0.01x^2 + 0.1x\n",
    "    return 0.01*x**2 + 0.1*x"
   ]
  },
  {
   "cell_type": "code",
   "execution_count": 3,
   "metadata": {
    "colab": {
     "autoexec": {
      "startup": false,
      "wait_interval": 0
     },
     "base_uri": "https://localhost:8080/",
     "height": 51
    },
    "colab_type": "code",
    "executionInfo": {
     "elapsed": 1960,
     "status": "ok",
     "timestamp": 1523670939160,
     "user": {
      "displayName": "joseph chen",
      "photoUrl": "//lh5.googleusercontent.com/-jV-WDIzif5k/AAAAAAAAAAI/AAAAAAAADws/1E_gH6L9C9M/s50-c-k-no/photo.jpg",
      "userId": "100161811673482621462"
     },
     "user_tz": -480
    },
    "id": "6DaLuZrVwIG4",
    "outputId": "3fad9aa1-2761-4e31-fad8-ccc81f56dca2"
   },
   "outputs": [
    {
     "name": "stdout",
     "output_type": "stream",
     "text": [
      "0.1999999999990898\n",
      "0.2999999999986347\n"
     ]
    }
   ],
   "source": [
    "def numerical_diff(f, x):\n",
    "    h = 1e-4\n",
    "    return ( f(x+h) - f(x-h) ) / (2 * h)\n",
    "\n",
    "print(numerical_diff(my_function, 5))\n",
    "print(numerical_diff(my_function, 10))"
   ]
  },
  {
   "cell_type": "markdown",
   "metadata": {
    "colab_type": "text",
    "id": "nJ13FBfYwIHK"
   },
   "source": [
    "# 梯度\n",
    "### To visualize the curve: https://goo.gl/iXTXGc\n",
    "$ x0^2 + x1^2 $"
   ]
  },
  {
   "cell_type": "code",
   "execution_count": 118,
   "metadata": {
    "cellView": "both",
    "colab": {
     "autoexec": {
      "startup": false,
      "wait_interval": 0
     },
     "base_uri": "https://localhost:8080/",
     "height": 67
    },
    "colab_type": "code",
    "executionInfo": {
     "elapsed": 656,
     "status": "ok",
     "timestamp": 1523185703520,
     "user": {
      "displayName": "游為翔",
      "photoUrl": "//lh3.googleusercontent.com/-LG6Of8zGKwQ/AAAAAAAAAAI/AAAAAAAAADU/X3DK7lclees/s50-c-k-no/photo.jpg",
      "userId": "106237220959659905188"
     },
     "user_tz": -480
    },
    "id": "5hUYXDL2wIHL",
    "outputId": "b5a81a8b-bbfc-4a17-bf96-afaf5c3bc445"
   },
   "outputs": [
    {
     "name": "stdout",
     "output_type": "stream",
     "text": [
      "[6. 8.]\n",
      "[-10. -10.]\n",
      "[0. 0.]\n",
      "[[  6.   8.]\n",
      " [-10. -10.]\n",
      " [  0.   0.]]\n"
     ]
    }
   ],
   "source": [
    "#@title  { run: \"auto\", vertical-output: true }\n",
    "def func(x):\n",
    "    return np.sum(x**2)  # x[0]**2 + x[1]**2 + x[2]**2...\n",
    "    \n",
    "    \n",
    "def _numerical_gradient_no_batch(f, x):\n",
    "    h = 1e-4  # 0.0001\n",
    "    grad = np.zeros_like(x)\n",
    "    \n",
    "    for idx in range(x.size):\n",
    "        tmp_val = x[idx]\n",
    "        x[idx] = float(tmp_val) + h\n",
    "        fxh1 = f(x)  # f(x+h)\n",
    "        \n",
    "        x[idx] = tmp_val - h \n",
    "        fxh2 = f(x)  # f(x-h)\n",
    "        grad[idx] = (fxh1 - fxh2) / (2*h)\n",
    "        \n",
    "        x[idx] = tmp_val  #save back\n",
    "        \n",
    "    return grad\n",
    "\n",
    "\n",
    "def numerical_gradient(f, X):\n",
    "    \n",
    "    if X.ndim == 1:\n",
    "        return _numerical_gradient_no_batch(f, X)\n",
    "    else:\n",
    "        grad = np.zeros_like(X)\n",
    "        \n",
    "        for idx, x in enumerate(X):\n",
    "            grad[idx] = _numerical_gradient_no_batch(f, x)\n",
    "        \n",
    "        return grad\n",
    "\n",
    "print(numerical_gradient(func, np.array([3.0, 4.0])))\n",
    "print(numerical_gradient(func, np.array([-5.0, -5.0])))\n",
    "print(numerical_gradient(func, np.array([0.0, 0.0])))\n",
    "#batch \n",
    "print(numerical_gradient(func, np.array([[3.0, 4.0],[-5.0, -5.0],[0.0, 0.0]])))"
   ]
  },
  {
   "cell_type": "code",
   "execution_count": 121,
   "metadata": {
    "cellView": "both",
    "colab": {
     "autoexec": {
      "startup": false,
      "wait_interval": 0
     },
     "base_uri": "https://localhost:8080/",
     "height": 248
    },
    "colab_type": "code",
    "executionInfo": {
     "elapsed": 719,
     "status": "ok",
     "timestamp": 1523185704310,
     "user": {
      "displayName": "游為翔",
      "photoUrl": "//lh3.googleusercontent.com/-LG6Of8zGKwQ/AAAAAAAAAAI/AAAAAAAAADU/X3DK7lclees/s50-c-k-no/photo.jpg",
      "userId": "106237220959659905188"
     },
     "user_tz": -480
    },
    "id": "J3nF6UZxwIHQ",
    "outputId": "ad55a8ca-3011-4eca-c516-2c08aef84cba"
   },
   "outputs": [
    {
     "data": {
      "text/plain": [
       "<matplotlib.image.AxesImage at 0x2841d662748>"
      ]
     },
     "execution_count": 121,
     "metadata": {},
     "output_type": "execute_result"
    },
    {
     "data": {
      "image/png": "[encoded data removed]",
      "text/plain": [
       "<Figure size 432x288 with 1 Axes>"
      ]
     },
     "metadata": {
      "needs_background": "light"
     },
     "output_type": "display_data"
    }
   ],
   "source": [
    "#@title 把每一個格子點的微分結果 (梯度) 用迴圈方式算出 { run: \"auto\", vertical-output: true }\n",
    "example_grad = np.zeros((11,11))\n",
    "for i in np.arange(-5,6):\n",
    "    for j in np.arange(-5,6):\n",
    "        x_vec, y_vec = numerical_gradient(func, np.array([np.float64(i), np.float64(j)]))\n",
    "        net_vec = np.sqrt(x_vec**2 + y_vec**2)\n",
    "        example_grad[i+5,j+5] = net_vec\n",
    "plt.imshow(example_grad, cmap = 'rainbow', interpolation='bilinear')\n"
   ]
  },
  {
   "cell_type": "code",
   "execution_count": 122,
   "metadata": {},
   "outputs": [
    {
     "data": {
      "text/plain": [
       "(11, 11)"
      ]
     },
     "execution_count": 122,
     "metadata": {},
     "output_type": "execute_result"
    }
   ],
   "source": [
    "example_grad.shape"
   ]
  },
  {
   "cell_type": "code",
   "execution_count": 124,
   "metadata": {},
   "outputs": [
    {
     "data": {
      "text/plain": [
       "array([-5., -4., -3., -2., -1.,  0.,  1.,  2.,  3.,  4.,  5., -5., -4.,\n",
       "       -3., -2., -1.,  0.,  1.,  2.,  3.,  4.,  5., -5., -4., -3., -2.,\n",
       "       -1.,  0.,  1.,  2.,  3.,  4.,  5., -5., -4., -3., -2., -1.,  0.,\n",
       "        1.,  2.,  3.,  4.,  5., -5., -4., -3., -2., -1.,  0.,  1.,  2.,\n",
       "        3.,  4.,  5., -5., -4., -3., -2., -1.,  0.,  1.,  2.,  3.,  4.,\n",
       "        5., -5., -4., -3., -2., -1.,  0.,  1.,  2.,  3.,  4.,  5., -5.,\n",
       "       -4., -3., -2., -1.,  0.,  1.,  2.,  3.,  4.,  5., -5., -4., -3.,\n",
       "       -2., -1.,  0.,  1.,  2.,  3.,  4.,  5., -5., -4., -3., -2., -1.,\n",
       "        0.,  1.,  2.,  3.,  4.,  5., -5., -4., -3., -2., -1.,  0.,  1.,\n",
       "        2.,  3.,  4.,  5.], dtype=float32)"
      ]
     },
     "execution_count": 124,
     "metadata": {},
     "output_type": "execute_result"
    }
   ],
   "source": [
    "\n",
    "x0 = np.arange(-5, 6, 1)\n",
    "x1 = np.arange(-5, 6, 1)\n",
    "X, Y = np.meshgrid(x0, x1)\n",
    "\n",
    "X = X.flatten()\n",
    "np.float32(X)"
   ]
  },
  {
   "cell_type": "code",
   "execution_count": 110,
   "metadata": {},
   "outputs": [
    {
     "data": {
      "text/plain": [
       "array([-5., -5., -5., -5., -5., -5., -5., -5., -5., -5., -5., -4., -4.,\n",
       "       -4., -4., -4., -4., -4., -4., -4., -4., -4., -3., -3., -3., -3.,\n",
       "       -3., -3., -3., -3., -3., -3., -3., -2., -2., -2., -2., -2., -2.,\n",
       "       -2., -2., -2., -2., -2., -1., -1., -1., -1., -1., -1., -1., -1.,\n",
       "       -1., -1., -1.,  0.,  0.,  0.,  0.,  0.,  0.,  0.,  0.,  0.,  0.,\n",
       "        0.,  1.,  1.,  1.,  1.,  1.,  1.,  1.,  1.,  1.,  1.,  1.,  2.,\n",
       "        2.,  2.,  2.,  2.,  2.,  2.,  2.,  2.,  2.,  2.,  3.,  3.,  3.,\n",
       "        3.,  3.,  3.,  3.,  3.,  3.,  3.,  3.,  4.,  4.,  4.,  4.,  4.,\n",
       "        4.,  4.,  4.,  4.,  4.,  4.,  5.,  5.,  5.,  5.,  5.,  5.,  5.,\n",
       "        5.,  5.,  5.,  5.], dtype=float32)"
      ]
     },
     "execution_count": 110,
     "metadata": {},
     "output_type": "execute_result"
    }
   ],
   "source": [
    "Y = Y.flatten()\n",
    "np.float32(Y)"
   ]
  },
  {
   "cell_type": "code",
   "execution_count": 107,
   "metadata": {},
   "outputs": [
    {
     "data": {
      "text/plain": [
       "2"
      ]
     },
     "execution_count": 107,
     "metadata": {},
     "output_type": "execute_result"
    }
   ],
   "source": [
    "b=np.array([np.float32(X), np.float32(Y)])\n",
    "b.ndim"
   ]
  },
  {
   "cell_type": "code",
   "execution_count": 112,
   "metadata": {},
   "outputs": [
    {
     "data": {
      "text/plain": [
       "0.0"
      ]
     },
     "execution_count": 112,
     "metadata": {},
     "output_type": "execute_result"
    }
   ],
   "source": [
    "np.sum(2*np.float32(X)+2*np.float32(Y))"
   ]
  },
  {
   "cell_type": "markdown",
   "metadata": {},
   "source": [
    "## Plot a 2D field of arrows.\n",
    "\n",
    "    https://matplotlib.org/3.1.1/api/_as_gen/matplotlib.pyplot.quiver.html\n",
    "    #quiver([X, Y], U, V, [C], **kw)\n",
    "    [X, Y]: The x and y coordinates of the arrow locations.\n",
    "    U, V: The x and y direction components of the arrow vectors.\n",
    "    angles : 'xy': Arrows point from (x,y) to (x+u, y+v). Use this for plotting a gradient field\n",
    "\n"
   ]
  },
  {
   "cell_type": "code",
   "execution_count": 127,
   "metadata": {},
   "outputs": [
    {
     "name": "stdout",
     "output_type": "stream",
     "text": [
      "[[-10.  -8.  -6.  -4.  -2.   0.   2.   4.   6.   8.  10. -10.  -8.  -6.\n",
      "   -4.  -2.   0.   2.   4.   6.   8.  10. -10.  -8.  -6.  -4.  -2.   0.\n",
      "    2.   4.   6.   8.  10. -10.  -8.  -6.  -4.  -2.   0.   2.   4.   6.\n",
      "    8.  10. -10.  -8.  -6.  -4.  -2.   0.   2.   4.   6.   8.  10. -10.\n",
      "   -8.  -6.  -4.  -2.   0.   2.   4.   6.   8.  10. -10.  -8.  -6.  -4.\n",
      "   -2.   0.   2.   4.   6.   8.  10. -10.  -8.  -6.  -4.  -2.   0.   2.\n",
      "    4.   6.   8.  10. -10.  -8.  -6.  -4.  -2.   0.   2.   4.   6.   8.\n",
      "   10. -10.  -8.  -6.  -4.  -2.   0.   2.   4.   6.   8.  10. -10.  -8.\n",
      "   -6.  -4.  -2.   0.   2.   4.   6.   8.  10.]\n",
      " [-10. -10. -10. -10. -10. -10. -10. -10. -10. -10. -10.  -8.  -8.  -8.\n",
      "   -8.  -8.  -8.  -8.  -8.  -8.  -8.  -8.  -6.  -6.  -6.  -6.  -6.  -6.\n",
      "   -6.  -6.  -6.  -6.  -6.  -4.  -4.  -4.  -4.  -4.  -4.  -4.  -4.  -4.\n",
      "   -4.  -4.  -2.  -2.  -2.  -2.  -2.  -2.  -2.  -2.  -2.  -2.  -2.   0.\n",
      "    0.   0.   0.   0.   0.   0.   0.   0.   0.   0.   2.   2.   2.   2.\n",
      "    2.   2.   2.   2.   2.   2.   2.   4.   4.   4.   4.   4.   4.   4.\n",
      "    4.   4.   4.   4.   6.   6.   6.   6.   6.   6.   6.   6.   6.   6.\n",
      "    6.   8.   8.   8.   8.   8.   8.   8.   8.   8.   8.   8.  10.  10.\n",
      "   10.  10.  10.  10.  10.  10.  10.  10.  10.]]\n"
     ]
    },
    {
     "data": {
      "image/png": "[encoded data removed]",
      "text/plain": [
       "<Figure size 432x288 with 1 Axes>"
      ]
     },
     "metadata": {
      "needs_background": "light"
     },
     "output_type": "display_data"
    }
   ],
   "source": [
    "\n",
    "x0 = np.arange(-5, 6)\n",
    "x1 = np.arange(-5, 6)\n",
    "X, Y = np.meshgrid(x0, x1)\n",
    "\n",
    "X = X.flatten()\n",
    "Y = Y.flatten()\n",
    "\n",
    "gradients = numerical_gradient(func, np.array([np.float64(X), np.float64(Y)]))\n",
    "#gradients = numerical_gradient(func, np.array([X,Y]))\n",
    "print(gradients)\n",
    "\n",
    "plt.figure()\n",
    "\n",
    "\n",
    "plt.quiver(X, Y, -gradients[0], -gradients[1],  angles=\"xy\",color=\"#666666\")\n",
    "\n",
    "plt.xlabel('x0')\n",
    "plt.ylabel('x1')\n",
    "plt.grid()\n",
    "#plt.legend()\n",
    "plt.draw()\n",
    "plt.show()"
   ]
  },
  {
   "cell_type": "code",
   "execution_count": 128,
   "metadata": {},
   "outputs": [
    {
     "data": {
      "text/plain": [
       "array([-10.,  -8.,  -6.,  -4.,  -2.,   0.,   2.,   4.,   6.,   8.,  10.,\n",
       "       -10.,  -8.,  -6.,  -4.,  -2.,   0.,   2.,   4.,   6.,   8.,  10.,\n",
       "       -10.,  -8.,  -6.,  -4.,  -2.,   0.,   2.,   4.,   6.,   8.,  10.,\n",
       "       -10.,  -8.,  -6.,  -4.,  -2.,   0.,   2.,   4.,   6.,   8.,  10.,\n",
       "       -10.,  -8.,  -6.,  -4.,  -2.,   0.,   2.,   4.,   6.,   8.,  10.,\n",
       "       -10.,  -8.,  -6.,  -4.,  -2.,   0.,   2.,   4.,   6.,   8.,  10.,\n",
       "       -10.,  -8.,  -6.,  -4.,  -2.,   0.,   2.,   4.,   6.,   8.,  10.,\n",
       "       -10.,  -8.,  -6.,  -4.,  -2.,   0.,   2.,   4.,   6.,   8.,  10.,\n",
       "       -10.,  -8.,  -6.,  -4.,  -2.,   0.,   2.,   4.,   6.,   8.,  10.,\n",
       "       -10.,  -8.,  -6.,  -4.,  -2.,   0.,   2.,   4.,   6.,   8.,  10.,\n",
       "       -10.,  -8.,  -6.,  -4.,  -2.,   0.,   2.,   4.,   6.,   8.,  10.])"
      ]
     },
     "execution_count": 128,
     "metadata": {},
     "output_type": "execute_result"
    }
   ],
   "source": [
    "gradients[0]"
   ]
  },
  {
   "cell_type": "markdown",
   "metadata": {
    "colab_type": "text",
    "id": "787UPyxBwIHU"
   },
   "source": [
    "# Define two layers network"
   ]
  },
  {
   "cell_type": "code",
   "execution_count": 9,
   "metadata": {},
   "outputs": [],
   "source": [
    "import os,sys\n",
    "sys.path.append(os.path.abspath('../common')) #for import common.utility\n",
    "from activation import *"
   ]
  },
  {
   "cell_type": "code",
   "execution_count": 32,
   "metadata": {
    "colab": {
     "autoexec": {
      "startup": false,
      "wait_interval": 0
     }
    },
    "colab_type": "code",
    "id": "ZEvZP2A8wIHY"
   },
   "outputs": [],
   "source": [
    "class Two_layerNet:\n",
    "    def __init__(self, \n",
    "                 input_size, \n",
    "                 hidden_size, \n",
    "                 output_size, \n",
    "                 weight_init_std = 0.01):\n",
    "        self.params = {}\n",
    "        self.params['w1'] = weight_init_std * np.random.randn(input_size, hidden_size)\n",
    "        self.params['b1'] = np.zeros(hidden_size)\n",
    "        self.params['w2'] = weight_init_std * np.random.randn(hidden_size, output_size)\n",
    "        self.params['b2'] = np.zeros(output_size)\n",
    "        \n",
    "    def load_weight(self):\n",
    "\n",
    "        with open('model.pickle', 'rb') as f:\n",
    "            self.params = pickle.load(f)\n",
    "        \n",
    "    def save_weight(self):\n",
    "        with open('model.pickle', 'wb') as f:\n",
    "            pickle.dump(self.params, f)\n",
    "        \n",
    "    def predict(self, x):\n",
    "        #the output is by softmax (the probability for each result)\n",
    "        # forward\n",
    "        w1, w2 = self.params['w1'], self.params['w2']\n",
    "        b1, b2 = self.params['b1'], self.params['b2']\n",
    "        \n",
    "        a1 = np.dot(x, w1) + b1\n",
    "        z1 = sigmoid(a1)\n",
    "        \n",
    "        a2 = np.dot(z1, w2) + b2\n",
    "        y = softmax(a2)\n",
    "        return y\n",
    "    def predict_class(self, x):\n",
    "        y_pred = self.predict(x)\n",
    "        return y_pred.argmax(axis = 1) \n",
    "        \n",
    "    def loss(self, x, y_true):\n",
    "        y_pred = self.predict(x)\n",
    "        return cross_entropy(y_pred, y_true)\n",
    "    \n",
    "    def compute_acc(self, x, y_true):\n",
    "        y_pred = self.predict(x)\n",
    "        # take argmax\n",
    "        y_pred = y_pred.argmax(axis = 1) \n",
    "        y_true = y_true.argmax(axis = 1)\n",
    "        \n",
    "        acc = np.sum(y_pred == y_true) / len(y_true)\n",
    "        return acc\n",
    "    \n",
    "    def numerical_gradient(self, x, y_true):\n",
    "        loss_W = lambda w: self.loss(x, y_true)\n",
    "        #print('gradient')\n",
    "        #print(y_true.shape)\n",
    "        \n",
    "        grads = {}\n",
    "        grads['w1'] = numerical_gradient(loss_W, self.params['w1'])\n",
    "        grads['b1'] = numerical_gradient(loss_W, self.params['b1'])\n",
    "        grads['w2'] = numerical_gradient(loss_W, self.params['w2'])\n",
    "        grads['b2'] = numerical_gradient(loss_W, self.params['b2'])\n",
    "        \n",
    "        return grads"
   ]
  },
  {
   "cell_type": "markdown",
   "metadata": {},
   "source": [
    "## load MNIST dataset\n",
    "    from sklearn.model_selecting import train_test_spilt()\n",
    "    参数stratify： 依据标签y，按原数据y中各类比例，分配给train和test，使得train和test中各类数据的比例与原数据集一样。\n",
    "    A:B:C=1:2:3\n",
    "    split后，train和test中，都是A:B:C=1:2:3\n",
    "    将stratify=X就是按照X中的比例分配\n",
    "    将stratify=y就是按照y中的比例分配\n",
    "    一般都是=y\n"
   ]
  },
  {
   "cell_type": "code",
   "execution_count": 11,
   "metadata": {
    "scrolled": true
   },
   "outputs": [
    {
     "name": "stdout",
     "output_type": "stream",
     "text": [
      "x_train shape: (2000, 784)\n",
      "y_train shape: (2000, 10)\n",
      "x_test shape: (2000, 784)\n",
      "y_test shape: (2000, 10)\n"
     ]
    }
   ],
   "source": [
    "#@title 使用 Tensorflow MNIST Dataset? { run: \"auto\", vertical-output: true }\n",
    "\n",
    "\n",
    "large_mnist =True #@param [\"False\", \"True\"] {type:\"raw\"}\n",
    "\n",
    "if large_mnist:\n",
    "# Load data from tensorflow MNIST dataset, which image size is 28 x 28 \n",
    "    from keras.datasets import mnist\n",
    "    num_samples=2000 #only take first 2000 samples from 60000 \n",
    "    (x_train, y_train), (x_test, y_test) = mnist.load_data()\n",
    "    x_train=x_train[:num_samples]\n",
    "    y_train=y_train[:num_samples]\n",
    "    x_test=x_test[:num_samples]\n",
    "    y_test=y_test[:num_samples]\n",
    "    x_train = x_train.reshape(num_samples, 784)\n",
    "    x_test = x_test.reshape(num_samples, 784)    \n",
    "    x_train = x_train.astype('float32')\n",
    "    x_test = x_test.astype('float32')\n",
    "    # Normalization: 0-1\n",
    "    x_train /= 255\n",
    "    x_test /= 255\n",
    "\n",
    "    y_train = np_utils.to_categorical(y_train, 10)\n",
    "    y_test = np_utils.to_categorical(y_test, 10)\n",
    "\n",
    "\n",
    "else:\n",
    "    # Load data from sklearn MNIST (digit) dataset, which image size is 8 x 8, pixel value 0~1\n",
    "    from sklearn.datasets import load_digits\n",
    "    digits = load_digits()\n",
    "    x_, y_single = digits.data, digits.target\n",
    "\n",
    "    # do some data preprocessing\n",
    "    y_ = np.zeros((len(y_single), 10))\n",
    "    y_[np.arange(len(y_)), y_single] = 1\n",
    "    from sklearn.model_selection import train_test_split\n",
    "    x_ = x_ / x_.max() # normailze it to 0 ~ 1\n",
    "    # do train_test split\n",
    "    x_train, x_test, y_train, y_test = train_test_split(x_, y_, test_size = 0.1, stratify = y_)\n",
    "\n",
    "\n",
    "print('x_train shape:',x_train.shape)\n",
    "print('y_train shape:',y_train.shape) \n",
    "print('x_test shape:',x_test.shape)\n",
    "print('y_test shape:',y_test.shape)"
   ]
  },
  {
   "cell_type": "markdown",
   "metadata": {},
   "source": [
    "## create the model"
   ]
  },
  {
   "cell_type": "code",
   "execution_count": 12,
   "metadata": {},
   "outputs": [
    {
     "data": {
      "text/plain": [
       "784"
      ]
     },
     "execution_count": 12,
     "metadata": {},
     "output_type": "execute_result"
    }
   ],
   "source": [
    "input_size=x_train.shape[-1]\n",
    "input_size"
   ]
  },
  {
   "cell_type": "code",
   "execution_count": 13,
   "metadata": {},
   "outputs": [],
   "source": [
    "network = Two_layerNet(input_size=x_train.shape[-1], # 784 for MNIST, 64 for digit\n",
    "                       hidden_size=25, \n",
    "                       output_size=10)"
   ]
  },
  {
   "cell_type": "markdown",
   "metadata": {},
   "source": [
    "## train the model"
   ]
  },
  {
   "cell_type": "code",
   "execution_count": 14,
   "metadata": {},
   "outputs": [],
   "source": [
    "iters_num = 5000\n",
    "train_size = x_train.shape[0] # numbers of training samples\n",
    "bz = 100 # batch size\n",
    "lr = 0.1 # learning rate\n",
    "# define training settings ------------\n",
    "train_loss_list = []\n",
    "train_acc_list = []\n",
    "test_acc_list = []"
   ]
  },
  {
   "cell_type": "code",
   "execution_count": 15,
   "metadata": {
    "cellView": "both",
    "colab": {
     "autoexec": {
      "startup": false,
      "wait_interval": 0
     },
     "base_uri": "https://localhost:8080/",
     "height": 684
    },
    "colab_type": "code",
    "executionInfo": {
     "elapsed": 4392057,
     "status": "ok",
     "timestamp": 1523191419932,
     "user": {
      "displayName": "游為翔",
      "photoUrl": "//lh3.googleusercontent.com/-LG6Of8zGKwQ/AAAAAAAAAAI/AAAAAAAAADU/X3DK7lclees/s50-c-k-no/photo.jpg",
      "userId": "106237220959659905188"
     },
     "user_tz": -480
    },
    "id": "3B9d-cxXwIHb",
    "outputId": "4629081a-dc18-4e7c-96dd-185176663fa7",
    "scrolled": true
   },
   "outputs": [
    {
     "name": "stderr",
     "output_type": "stream",
     "text": [
      "100%|████████████████████████████████████████████████████████████████████████████| 5000/5000 [9:31:23<00:00,  6.83s/it]\n"
     ]
    }
   ],
   "source": [
    "for i in tqdm(range(iters_num)):\n",
    "    batch_mask = np.random.choice(train_size, bz)\n",
    "    x_batch = x_train[batch_mask]\n",
    "    y_batch = y_train[batch_mask]\n",
    "    \n",
    "    grad = network.numerical_gradient(x_batch, y_batch) # already contain a feed-forward processing in this step\n",
    "    \n",
    "    for key in (\"w1\", \"b1\", \"w2\", \"b2\"):\n",
    "        network.params[key] -= lr * grad[key]\n",
    "        \n",
    "    this_loss = network.loss(x_batch, y_batch)\n",
    "    train_loss_list.append(this_loss)\n",
    "    \n",
    "    if i % 100 == 0:\n",
    "        # compute accuracy for every 50 updates\n",
    "        train_acc = network.compute_acc(x_train, y_train)\n",
    "        test_acc = network.compute_acc(x_test, y_test)\n",
    "        \n",
    "        train_acc_list.append(train_acc)\n",
    "        test_acc_list.append(test_acc)\n",
    "        \n",
    "        #print(\"Train accuarcy, Test accuracy | \" + str(train_acc) + \", \" + str(test_acc))\n",
    "        \n"
   ]
  },
  {
   "cell_type": "markdown",
   "metadata": {},
   "source": [
    "## save the model"
   ]
  },
  {
   "cell_type": "code",
   "execution_count": 18,
   "metadata": {},
   "outputs": [
    {
     "data": {
      "text/plain": [
       "{'w1': array([[-0.01018174,  0.00500095, -0.0205939 , ..., -0.00950139,\n",
       "          0.00202977,  0.011564  ],\n",
       "        [ 0.01331306,  0.00161339, -0.00444825, ..., -0.01030859,\n",
       "         -0.0027914 , -0.02836887],\n",
       "        [-0.01436026, -0.01371096,  0.01596589, ...,  0.00362836,\n",
       "          0.00611419,  0.00520865],\n",
       "        ...,\n",
       "        [-0.00260012,  0.00723648,  0.01074171, ..., -0.01613992,\n",
       "         -0.00199818, -0.00059662],\n",
       "        [ 0.00667247, -0.00176886, -0.00721152, ...,  0.00489335,\n",
       "          0.00596428, -0.01032513],\n",
       "        [ 0.00937113,  0.00726988,  0.01853727, ..., -0.00995265,\n",
       "         -0.0099486 ,  0.00233027]]),\n",
       " 'b1': array([-0.24564435, -0.23098914, -0.19123958,  0.2386657 ,  0.43479099,\n",
       "         0.06578351,  0.06842556, -0.0343935 , -0.40290159, -0.02623531,\n",
       "         0.14316376,  0.06391717,  0.01365674,  0.23221346,  0.15396897,\n",
       "         0.17752704,  0.02072955,  0.1412489 ,  0.26987283, -0.02413405,\n",
       "         0.18516899, -0.17746967, -0.1292343 ,  0.34245331,  0.00587674]),\n",
       " 'w2': array([[ 7.61580899e-01, -1.28117087e+00,  5.82358778e-01,\n",
       "          1.13509038e+00, -8.92875299e-01,  1.06911107e+00,\n",
       "         -2.06703224e+00,  2.63430123e-01,  1.02085181e+00,\n",
       "         -6.92082624e-01],\n",
       "        [ 1.09417551e+00, -9.25233899e-01,  1.49689408e+00,\n",
       "          1.01848188e-01, -2.24170388e+00, -1.02610973e+00,\n",
       "          4.97773725e-01,  1.00423192e+00,  3.32285857e-01,\n",
       "         -2.89902892e-01],\n",
       "        [-1.20185244e+00,  1.12012355e+00,  1.30241394e+00,\n",
       "          1.86806686e+00, -2.82368700e-01, -1.46075103e+00,\n",
       "         -1.02107275e+00,  2.03663351e-01,  2.95620684e-01,\n",
       "         -8.34637484e-01],\n",
       "        [-8.13924258e-01,  5.83008393e-02,  4.34518524e-01,\n",
       "         -4.12967691e-01,  9.50888496e-01, -7.38552153e-01,\n",
       "         -5.06659279e-01,  2.19797367e+00, -9.34368503e-01,\n",
       "         -2.20464943e-01],\n",
       "        [ 1.15505171e+00, -1.05427788e-01, -1.69128748e+00,\n",
       "          5.14767702e-01, -6.79223439e-01,  1.68226666e+00,\n",
       "          8.33673870e-01,  7.62217939e-01, -1.87869322e+00,\n",
       "         -6.03386652e-01],\n",
       "        [-1.08151474e+00,  6.62793918e-01, -1.18429969e-02,\n",
       "         -6.38954584e-01, -3.85127158e-01,  1.16487017e+00,\n",
       "          9.95543900e-01, -1.19852191e+00,  6.44208128e-01,\n",
       "         -1.23101995e-01],\n",
       "        [-1.23660197e+00,  1.12759937e+00, -1.39428272e+00,\n",
       "          1.13806761e+00, -4.50578343e-01,  1.36151078e+00,\n",
       "         -1.52228056e+00,  4.23525641e-01,  7.89392320e-01,\n",
       "         -2.53709084e-01],\n",
       "        [ 1.80482226e+00, -6.20816081e-01, -1.69999993e-01,\n",
       "         -1.92112690e+00, -4.85582659e-01,  2.66415923e-04,\n",
       "         -1.08241879e+00,  1.27649105e+00,  7.46331003e-01,\n",
       "          4.39469915e-01],\n",
       "        [-1.12739623e+00,  1.13518713e+00,  2.84218614e-01,\n",
       "          7.16408024e-01, -2.11521327e+00, -1.36655452e+00,\n",
       "         -1.50265010e+00,  8.11011365e-01,  7.65304030e-01,\n",
       "          2.35902056e+00],\n",
       "        [-1.36021696e+00,  6.79909886e-01,  9.73730242e-01,\n",
       "         -9.69870292e-01,  1.19060384e+00, -4.45348370e-01,\n",
       "          1.05523742e+00, -2.21464025e+00,  6.77056999e-01,\n",
       "          3.46525602e-01],\n",
       "        [ 1.06041325e+00, -1.61528888e+00, -4.64477096e-01,\n",
       "         -8.33519076e-01,  7.75336161e-02,  1.32324712e+00,\n",
       "          6.11163380e-01, -6.82183754e-01, -5.30417607e-01,\n",
       "          1.03310790e+00],\n",
       "        [-9.13158532e-01, -7.14056089e-01, -2.28692643e-01,\n",
       "         -7.25147576e-01,  1.10955101e+00, -1.15982144e+00,\n",
       "          6.71430868e-01,  1.28857666e+00, -3.93806491e-01,\n",
       "          1.07555778e+00],\n",
       "        [ 1.27651107e+00, -4.80342112e-01,  1.16353780e+00,\n",
       "         -1.58763782e+00,  8.09830431e-01, -1.50041108e-01,\n",
       "          1.11011601e+00, -1.29211683e+00, -1.16742783e-01,\n",
       "         -7.42362820e-01],\n",
       "        [ 8.88940274e-01, -1.04478316e+00,  1.17756255e+00,\n",
       "          1.32216182e+00,  7.81011305e-01, -2.03356499e-01,\n",
       "          2.87029364e-02, -3.22236679e-01, -1.57278142e+00,\n",
       "         -1.09530691e+00],\n",
       "        [-4.31235144e-01, -9.10191586e-01, -9.20705631e-01,\n",
       "         -3.91649407e-01,  1.56137764e+00, -8.47937947e-01,\n",
       "          1.03846791e+00,  7.44229607e-01, -1.01106544e+00,\n",
       "          1.14872090e+00],\n",
       "        [-1.38243273e+00,  3.98577270e-01, -9.65312277e-01,\n",
       "          1.34756134e+00,  2.09899420e-01,  9.16754091e-01,\n",
       "         -8.40254694e-01,  4.94604141e-01, -9.75365200e-01,\n",
       "          8.00295072e-01],\n",
       "        [-9.46743582e-01,  1.58831484e+00,  1.72067931e+00,\n",
       "          1.06148580e-01, -6.71467298e-01, -5.27371287e-01,\n",
       "          1.64167182e+00, -7.48919996e-01, -1.08297370e+00,\n",
       "         -1.04852760e+00],\n",
       "        [-7.30723880e-01, -4.27833304e-01, -3.80345953e-02,\n",
       "         -6.36838641e-01,  1.42251939e+00, -2.38007309e-01,\n",
       "         -1.03290564e+00,  1.33702001e+00, -8.04545620e-01,\n",
       "          1.12586971e+00],\n",
       "        [ 9.02105099e-01,  1.30723735e+00, -6.84059046e-01,\n",
       "          3.31698114e-01, -1.32067401e+00,  8.83914940e-01,\n",
       "         -3.46869782e-01,  1.25757876e+00, -1.07155747e+00,\n",
       "         -1.23838490e+00],\n",
       "        [-1.36830747e+00,  1.25669957e+00,  5.46643589e-01,\n",
       "         -1.35683042e+00,  5.37956057e-02,  4.80124424e-01,\n",
       "          1.38719902e+00, -1.15088652e+00,  1.54987751e+00,\n",
       "         -1.41042880e+00],\n",
       "        [-7.78045548e-01,  3.80524797e-02, -8.14476910e-01,\n",
       "         -3.19494900e-01,  1.08269258e+00, -4.10322617e-01,\n",
       "          6.01099646e-02,  1.00555033e+00, -1.01777158e+00,\n",
       "          1.15129752e+00],\n",
       "        [ 8.62032550e-01, -1.18583588e+00, -7.38627169e-01,\n",
       "          8.51569876e-01,  2.75651244e-01,  4.27694617e-01,\n",
       "         -1.71294851e+00, -6.82745532e-01,  1.03466659e+00,\n",
       "          8.91074889e-01],\n",
       "        [ 8.17283087e-01, -1.47932219e+00,  2.79021551e-01,\n",
       "          9.62538619e-01,  5.70884172e-01,  3.35602562e-01,\n",
       "          6.65847589e-01, -2.02891102e+00,  5.96992805e-01,\n",
       "         -6.92416351e-01],\n",
       "        [-5.68670515e-01,  8.63136320e-01,  9.91154103e-01,\n",
       "         -2.48510903e-02,  1.09783081e+00,  3.44319010e-02,\n",
       "         -8.35467989e-02,  4.22647672e-01, -1.16517896e+00,\n",
       "         -1.54201957e+00],\n",
       "        [-1.33916928e+00,  7.46906267e-01, -1.81352028e+00,\n",
       "         -1.19034618e+00,  3.05179396e-01, -2.83737853e-01,\n",
       "          8.45492193e-01,  3.36515366e-01,  1.34458042e+00,\n",
       "          1.02304978e+00]]),\n",
       " 'b2': array([ 0.05342629,  0.10490494,  0.03588608,  0.18247183, -0.17091569,\n",
       "        -0.01698332, -0.06944961, -0.19461496,  0.02922393,  0.04605039])}"
      ]
     },
     "execution_count": 18,
     "metadata": {},
     "output_type": "execute_result"
    }
   ],
   "source": [
    "#network.params"
   ]
  },
  {
   "cell_type": "code",
   "execution_count": 17,
   "metadata": {},
   "outputs": [],
   "source": [
    "network.save_weight()  #model.pickle"
   ]
  },
  {
   "cell_type": "code",
   "execution_count": 19,
   "metadata": {},
   "outputs": [
    {
     "data": {
      "image/png": "[encoded data removed]",
      "text/plain": [
       "<Figure size 432x288 with 1 Axes>"
      ]
     },
     "metadata": {
      "needs_background": "light"
     },
     "output_type": "display_data"
    },
    {
     "data": {
      "image/png": "[encoded data removed]",
      "text/plain": [
       "<Figure size 432x288 with 1 Axes>"
      ]
     },
     "metadata": {
      "needs_background": "light"
     },
     "output_type": "display_data"
    }
   ],
   "source": [
    "plt.plot(np.arange(len(train_loss_list)), train_loss_list, 'b-')\n",
    "plt.show()\n",
    "\n",
    "plt.plot(np.arange(len(train_acc_list)), train_acc_list, 'b-', label = 'training accuracy')\n",
    "plt.plot(np.arange(len(test_acc_list)), test_acc_list, 'r-', label = 'validation accuracy')\n",
    "plt.legend(bbox_to_anchor=(1.05, 1), loc=2, borderaxespad=0.)\n",
    "plt.show()"
   ]
  },
  {
   "cell_type": "code",
   "execution_count": 25,
   "metadata": {},
   "outputs": [
    {
     "data": {
      "text/plain": [
       "0.977"
      ]
     },
     "execution_count": 25,
     "metadata": {},
     "output_type": "execute_result"
    }
   ],
   "source": [
    "network.compute_acc(x_train,y_train)"
   ]
  },
  {
   "cell_type": "code",
   "execution_count": 39,
   "metadata": {},
   "outputs": [
    {
     "data": {
      "text/plain": [
       "0.8555"
      ]
     },
     "execution_count": 39,
     "metadata": {},
     "output_type": "execute_result"
    }
   ],
   "source": [
    "network1.compute_acc(x_test,y_test)"
   ]
  },
  {
   "cell_type": "code",
   "execution_count": 20,
   "metadata": {},
   "outputs": [
    {
     "data": {
      "text/plain": [
       "array([[2.95345051e-02, 2.10314036e-04, 4.43066418e-04, 3.37617406e-01,\n",
       "        1.59347997e-05, 6.25102769e-01, 4.88387773e-05, 1.92171804e-03,\n",
       "        3.00529610e-03, 2.10015250e-03],\n",
       "       [9.93251610e-01, 2.59840412e-07, 1.48323183e-04, 2.19755597e-04,\n",
       "        2.82268311e-06, 6.16226294e-03, 2.69972903e-05, 1.15874086e-04,\n",
       "        4.96764414e-05, 2.24182239e-05],\n",
       "       [7.51026195e-06, 1.87255304e-05, 2.23258052e-03, 8.12536012e-04,\n",
       "        9.94692144e-01, 2.50171944e-05, 3.51709638e-04, 5.40054381e-04,\n",
       "        1.39919871e-05, 1.30573078e-03],\n",
       "       [1.80559956e-07, 9.91216093e-01, 5.93046621e-03, 4.79861030e-04,\n",
       "        1.04395607e-04, 1.56609618e-04, 3.45625148e-04, 4.80256070e-04,\n",
       "        1.25491331e-03, 3.15990872e-05],\n",
       "       [5.55375318e-07, 1.64415239e-03, 1.39746789e-05, 3.71791205e-05,\n",
       "        1.64689271e-02, 3.84134975e-04, 3.94560339e-05, 1.11621265e-02,\n",
       "        2.11266041e-03, 9.68136833e-01]])"
      ]
     },
     "execution_count": 20,
     "metadata": {},
     "output_type": "execute_result"
    }
   ],
   "source": [
    "ypred=network.predict(x_train[:5])\n",
    "ypred"
   ]
  },
  {
   "cell_type": "code",
   "execution_count": 21,
   "metadata": {},
   "outputs": [
    {
     "data": {
      "text/plain": [
       "array([5, 0, 4, 1, 9, 2, 1, 3, 1, 4, 3, 5, 3, 6, 1, 7, 2, 8, 6, 9],\n",
       "      dtype=int64)"
      ]
     },
     "execution_count": 21,
     "metadata": {},
     "output_type": "execute_result"
    }
   ],
   "source": [
    "network.predict_class(x_train[:20])"
   ]
  },
  {
   "cell_type": "code",
   "execution_count": 23,
   "metadata": {},
   "outputs": [
    {
     "data": {
      "text/plain": [
       "array([[0., 0., 0., 0., 0., 1., 0., 0., 0., 0.],\n",
       "       [1., 0., 0., 0., 0., 0., 0., 0., 0., 0.],\n",
       "       [0., 0., 0., 0., 1., 0., 0., 0., 0., 0.],\n",
       "       [0., 1., 0., 0., 0., 0., 0., 0., 0., 0.],\n",
       "       [0., 0., 0., 0., 0., 0., 0., 0., 0., 1.]], dtype=float32)"
      ]
     },
     "execution_count": 23,
     "metadata": {},
     "output_type": "execute_result"
    }
   ],
   "source": [
    "y_train[:5]"
   ]
  },
  {
   "cell_type": "markdown",
   "metadata": {},
   "source": [
    "## Load pre-trained model"
   ]
  },
  {
   "cell_type": "code",
   "execution_count": 35,
   "metadata": {},
   "outputs": [],
   "source": [
    "network1 = Two_layerNet(input_size=x_train.shape[-1], # 784 for MNIST, 64 for digit\n",
    "                       hidden_size=25, \n",
    "                       output_size=10)\n",
    "network1.load_weight()"
   ]
  },
  {
   "cell_type": "code",
   "execution_count": 37,
   "metadata": {},
   "outputs": [
    {
     "data": {
      "text/plain": [
       "0.977"
      ]
     },
     "execution_count": 37,
     "metadata": {},
     "output_type": "execute_result"
    }
   ],
   "source": [
    "network1.compute_acc(x_train,y_train)"
   ]
  },
  {
   "cell_type": "code",
   "execution_count": 38,
   "metadata": {},
   "outputs": [
    {
     "data": {
      "text/plain": [
       "0.8555"
      ]
     },
     "execution_count": 38,
     "metadata": {},
     "output_type": "execute_result"
    }
   ],
   "source": [
    "network1.compute_acc(x_test,y_test)"
   ]
  }
 ],
 "metadata": {
  "colab": {
   "collapsed_sections": [],
   "default_view": {},
   "name": "DeepLearning_without_framework_numeric_method.ipynb",
   "provenance": [],
   "version": "0.3.2",
   "views": {}
  },
  "kernelspec": {
   "display_name": "Python 3",
   "language": "python",
   "name": "python3"
  },
  "language_info": {
   "codemirror_mode": {
    "name": "ipython",
    "version": 3
   },
   "file_extension": ".py",
   "mimetype": "text/x-python",
   "name": "python",
   "nbconvert_exporter": "python",
   "pygments_lexer": "ipython3",
   "version": "3.8.3"
  }
 },
 "nbformat": 4,
 "nbformat_minor": 1
}

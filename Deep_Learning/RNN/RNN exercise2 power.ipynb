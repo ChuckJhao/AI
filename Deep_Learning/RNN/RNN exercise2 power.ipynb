{
 "cells": [
  {
   "cell_type": "markdown",
   "metadata": {},
   "source": [
    "## Exercise \n",
    "創建一個RNN網路,能夠預測下一個數字\n"
   ]
  },
  {
   "cell_type": "code",
   "execution_count": 1,
   "metadata": {},
   "outputs": [],
   "source": [
    "# %load simpleRNN.py\n",
    "'''\n",
    " RNN model type: Many to one\n",
    " here, we use sequential model to create a single output tensor,\n",
    " For multi-output layers, use the functional API.\n",
    " https://keras.io/guides/functional_api/\n",
    "'''\n",
    "\n",
    "from numpy import array\n",
    "from keras.models import Sequential\n",
    "from keras.layers import LSTM\n",
    "from keras.layers import Dense\n",
    "from keras.layers import Bidirectional\n",
    "import numpy as np"
   ]
  },
  {
   "cell_type": "code",
   "execution_count": 2,
   "metadata": {},
   "outputs": [],
   "source": [
    "\n",
    "\n",
    "# Function to genate the input\n",
    "# You can try with different input\n",
    "def sequence_generator(typeof):\n",
    "\t# [0, 10, 20, ...]\n",
    "\tif typeof == 'plusten':\n",
    "\t\tsequence = [i for i in range(0, 1500, 10)]\n",
    "\t# [2, 4, 6, ...]\n",
    "\telif typeof == 'double':\n",
    "\t\tsequence = [i*2 for i in range(1, 250)]\n",
    "\t# [1, 4, 9, 25, ...]\n",
    "\telif typeof == 'power':\n",
    "\t\tsequence = [i**2 for i in range(1, 100)]\n",
    "\treturn sequence\n",
    "\n",
    "\n",
    "#  To separate the sequence into input and output ([X] [y])\n",
    "# For example [1, 3, 5, 7, 9, 11] becomes\n",
    "# [1, 3, 5] --> [7]\n",
    "# [3, 5, 7] --> [9]\n",
    "# [5, 7, 9] --> [11] \n",
    "def separate_sequence(sequence, seq_len):\n",
    "\tX, y = list(), list()\n",
    "\tfor i in range(len(sequence)):\n",
    "\t\t# find the end of this pattern\n",
    "\t\tend_ix = i + seq_len\n",
    "\t\t# check if we are beyond the sequence\n",
    "\t\tif end_ix > len(sequence)-1:\n",
    "\t\t\tbreak\n",
    "\t\t# gather input and output parts of the pattern\n",
    "\t\tseq_x, seq_y = sequence[i:end_ix], sequence[end_ix]\n",
    "\t\tX.append(seq_x)\n",
    "\t\ty.append(seq_y)\n",
    "\treturn array(X), array(y)\n",
    " \n",
    "\n",
    "\n"
   ]
  },
  {
   "cell_type": "markdown",
   "metadata": {},
   "source": [
    "## Generate the input sequence"
   ]
  },
  {
   "cell_type": "code",
   "execution_count": 3,
   "metadata": {},
   "outputs": [
    {
     "name": "stdout",
     "output_type": "stream",
     "text": [
      "[1, 4, 9, 16, 25, 36, 49, 64, 81, 100, 121, 144, 169, 196, 225, 256, 289, 324, 361, 400, 441, 484, 529, 576, 625, 676, 729, 784, 841, 900, 961, 1024, 1089, 1156, 1225, 1296, 1369, 1444, 1521, 1600, 1681, 1764, 1849, 1936, 2025, 2116, 2209, 2304, 2401, 2500, 2601, 2704, 2809, 2916, 3025, 3136, 3249, 3364, 3481, 3600, 3721, 3844, 3969, 4096, 4225, 4356, 4489, 4624, 4761, 4900, 5041, 5184, 5329, 5476, 5625, 5776, 5929, 6084, 6241, 6400, 6561, 6724, 6889, 7056, 7225, 7396, 7569, 7744, 7921, 8100, 8281, 8464, 8649, 8836, 9025, 9216, 9409, 9604, 9801]\n",
      "[[ 1  4  9 16]\n",
      " [ 4  9 16 25]\n",
      " [ 9 16 25 36]\n",
      " [16 25 36 49]\n",
      " [25 36 49 64]]\n",
      "[25 36 49 64 81]\n",
      "X.shape (95, 4, 1)\n",
      "y.shape (95,)\n"
     ]
    }
   ],
   "source": [
    "time_step = 4\n",
    "n_features = 1\n",
    "\n",
    "t = 'power'\n",
    "sq = sequence_generator(t)\n",
    "print (sq)\n",
    "\n",
    "# split into samples\n",
    "X, y = separate_sequence(sq,time_step)\n",
    "\n",
    "# reshape the input into [batch, timesteps, features] to be readable to the network\n",
    "print(X[:5])\n",
    "print(y[:5])\n",
    "X = X.reshape((X.shape[0], X.shape[1], n_features))\n",
    "print('X.shape',X.shape)\n",
    "print('y.shape',y.shape)"
   ]
  },
  {
   "cell_type": "markdown",
   "metadata": {},
   "source": [
    "## create model and train model"
   ]
  },
  {
   "cell_type": "code",
   "execution_count": 10,
   "metadata": {},
   "outputs": [
    {
     "name": "stdout",
     "output_type": "stream",
     "text": [
      "Model: \"sequential_2\"\n",
      "_________________________________________________________________\n",
      "Layer (type)                 Output Shape              Param #   \n",
      "=================================================================\n",
      "lstm_2 (LSTM)                (None, 256)               264192    \n",
      "_________________________________________________________________\n",
      "dense_2 (Dense)              (None, 1)                 257       \n",
      "=================================================================\n",
      "Total params: 264,449\n",
      "Trainable params: 264,449\n",
      "Non-trainable params: 0\n",
      "_________________________________________________________________\n"
     ]
    },
    {
     "data": {
      "text/plain": [
       "<tensorflow.python.keras.callbacks.History at 0x1668b5d4e50>"
      ]
     },
     "execution_count": 10,
     "metadata": {},
     "output_type": "execute_result"
    }
   ],
   "source": [
    "model = Sequential()\n",
    "#model.add(Bidirectional(LSTM(64, activation='relu'), input_shape=(time_step, n_features)))\n",
    "model.add(LSTM(256, activation='relu',input_shape=(time_step, n_features)))\n",
    "model.add(Dense(1))\n",
    "model.compile(optimizer='adam', loss='mse')\n",
    "model.summary()\n",
    "# fit model\n",
    "model.fit(X, y, epochs=400, batch_size =32,verbose=0)"
   ]
  },
  {
   "cell_type": "markdown",
   "metadata": {},
   "source": [
    "## Test"
   ]
  },
  {
   "cell_type": "code",
   "execution_count": 11,
   "metadata": {},
   "outputs": [
    {
     "name": "stdout",
     "output_type": "stream",
     "text": [
      "[[99.]]\n"
     ]
    }
   ],
   "source": [
    "# Input a sequence and predict\n",
    "x_input = array([39,49,59,69])\n",
    "x_input = x_input.reshape((1, time_step, n_features))\n",
    "yhat = model.predict(x_input, verbose=0)\n",
    "print(np.round(yhat))"
   ]
  },
  {
   "cell_type": "code",
   "execution_count": 12,
   "metadata": {},
   "outputs": [
    {
     "name": "stdout",
     "output_type": "stream",
     "text": [
      "[[[  1]\n",
      "  [  4]\n",
      "  [  9]\n",
      "  [ 16]]\n",
      "\n",
      " [[  4]\n",
      "  [  9]\n",
      "  [ 16]\n",
      "  [ 25]]\n",
      "\n",
      " [[  9]\n",
      "  [ 16]\n",
      "  [ 25]\n",
      "  [ 36]]\n",
      "\n",
      " [[ 16]\n",
      "  [ 25]\n",
      "  [ 36]\n",
      "  [ 49]]\n",
      "\n",
      " [[ 25]\n",
      "  [ 36]\n",
      "  [ 49]\n",
      "  [ 64]]\n",
      "\n",
      " [[ 36]\n",
      "  [ 49]\n",
      "  [ 64]\n",
      "  [ 81]]\n",
      "\n",
      " [[ 49]\n",
      "  [ 64]\n",
      "  [ 81]\n",
      "  [100]]\n",
      "\n",
      " [[ 64]\n",
      "  [ 81]\n",
      "  [100]\n",
      "  [121]]\n",
      "\n",
      " [[ 81]\n",
      "  [100]\n",
      "  [121]\n",
      "  [144]]\n",
      "\n",
      " [[100]\n",
      "  [121]\n",
      "  [144]\n",
      "  [169]]]\n"
     ]
    },
    {
     "data": {
      "text/plain": [
       "array([[ 25.],\n",
       "       [ 36.],\n",
       "       [ 49.],\n",
       "       [ 64.],\n",
       "       [ 81.],\n",
       "       [101.],\n",
       "       [121.],\n",
       "       [144.],\n",
       "       [169.],\n",
       "       [196.]], dtype=float32)"
      ]
     },
     "execution_count": 12,
     "metadata": {},
     "output_type": "execute_result"
    }
   ],
   "source": [
    "print(X[:10])\n",
    "yhat = model.predict(X[:10], verbose=0)\n",
    "np.round(yhat)"
   ]
  },
  {
   "cell_type": "code",
   "execution_count": null,
   "metadata": {},
   "outputs": [],
   "source": []
  },
  {
   "cell_type": "code",
   "execution_count": null,
   "metadata": {},
   "outputs": [],
   "source": []
  }
 ],
 "metadata": {
  "kernelspec": {
   "display_name": "Python 3",
   "language": "python",
   "name": "python3"
  },
  "language_info": {
   "codemirror_mode": {
    "name": "ipython",
    "version": 3
   },
   "file_extension": ".py",
   "mimetype": "text/x-python",
   "name": "python",
   "nbconvert_exporter": "python",
   "pygments_lexer": "ipython3",
   "version": "3.8.3"
  }
 },
 "nbformat": 4,
 "nbformat_minor": 2
}

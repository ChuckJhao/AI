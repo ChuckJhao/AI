{
 "cells": [
  {
   "cell_type": "markdown",
   "metadata": {},
   "source": [
    "# RNN international airline passengers"
   ]
  },
  {
   "cell_type": "markdown",
   "metadata": {},
   "source": [
    "## Loading and Visualizing Data"
   ]
  },
  {
   "cell_type": "code",
   "execution_count": 1,
   "metadata": {},
   "outputs": [
    {
     "name": "stderr",
     "output_type": "stream",
     "text": [
      "Using TensorFlow backend.\n"
     ]
    }
   ],
   "source": [
    "import numpy as np # linear algebra\n",
    "import pandas as pd # data processing, CSV file I/O (e.g. pd.read_csv)\n",
    " \n",
    "# Importing the libraries\n",
    "import matplotlib.pyplot as plt\n",
    "#import warnings\n",
    "#warnings.filterwarnings('ignore')\n",
    "    \n",
    "from keras.models import Sequential\n",
    "from keras.layers import Dense, Dropout, Activation\n",
    "\n"
   ]
  },
  {
   "cell_type": "code",
   "execution_count": 2,
   "metadata": {
    "scrolled": true
   },
   "outputs": [
    {
     "data": {
      "text/html": [
       "<div>\n",
       "<style scoped>\n",
       "    .dataframe tbody tr th:only-of-type {\n",
       "        vertical-align: middle;\n",
       "    }\n",
       "\n",
       "    .dataframe tbody tr th {\n",
       "        vertical-align: top;\n",
       "    }\n",
       "\n",
       "    .dataframe thead th {\n",
       "        text-align: right;\n",
       "    }\n",
       "</style>\n",
       "<table border=\"1\" class=\"dataframe\">\n",
       "  <thead>\n",
       "    <tr style=\"text-align: right;\">\n",
       "      <th></th>\n",
       "      <th>Month</th>\n",
       "      <th>International airline passengers: monthly totals in thousands. Jan 49 ? Dec 60</th>\n",
       "    </tr>\n",
       "  </thead>\n",
       "  <tbody>\n",
       "    <tr>\n",
       "      <th>139</th>\n",
       "      <td>1960-08</td>\n",
       "      <td>606</td>\n",
       "    </tr>\n",
       "    <tr>\n",
       "      <th>140</th>\n",
       "      <td>1960-09</td>\n",
       "      <td>508</td>\n",
       "    </tr>\n",
       "    <tr>\n",
       "      <th>141</th>\n",
       "      <td>1960-10</td>\n",
       "      <td>461</td>\n",
       "    </tr>\n",
       "    <tr>\n",
       "      <th>142</th>\n",
       "      <td>1960-11</td>\n",
       "      <td>390</td>\n",
       "    </tr>\n",
       "    <tr>\n",
       "      <th>143</th>\n",
       "      <td>1960-12</td>\n",
       "      <td>432</td>\n",
       "    </tr>\n",
       "  </tbody>\n",
       "</table>\n",
       "</div>"
      ],
      "text/plain": [
       "       Month  \\\n",
       "139  1960-08   \n",
       "140  1960-09   \n",
       "141  1960-10   \n",
       "142  1960-11   \n",
       "143  1960-12   \n",
       "\n",
       "     International airline passengers: monthly totals in thousands. Jan 49 ? Dec 60  \n",
       "139                                                606                               \n",
       "140                                                508                               \n",
       "141                                                461                               \n",
       "142                                                390                               \n",
       "143                                                432                               "
      ]
     },
     "execution_count": 2,
     "metadata": {},
     "output_type": "execute_result"
    }
   ],
   "source": [
    "#skiprows,skipfooter=Number of lines at bottom of file to skip \n",
    "\n",
    "data = pd.read_csv('input/international-airline-passengers.csv',skipfooter=3,engine='python')\n",
    "data.tail() "
   ]
  },
  {
   "cell_type": "code",
   "execution_count": 3,
   "metadata": {},
   "outputs": [
    {
     "data": {
      "text/html": [
       "<div>\n",
       "<style scoped>\n",
       "    .dataframe tbody tr th:only-of-type {\n",
       "        vertical-align: middle;\n",
       "    }\n",
       "\n",
       "    .dataframe tbody tr th {\n",
       "        vertical-align: top;\n",
       "    }\n",
       "\n",
       "    .dataframe thead th {\n",
       "        text-align: right;\n",
       "    }\n",
       "</style>\n",
       "<table border=\"1\" class=\"dataframe\">\n",
       "  <thead>\n",
       "    <tr style=\"text-align: right;\">\n",
       "      <th></th>\n",
       "      <th>Month</th>\n",
       "      <th>International airline passengers: monthly totals in thousands. Jan 49 ? Dec 60</th>\n",
       "    </tr>\n",
       "  </thead>\n",
       "  <tbody>\n",
       "    <tr>\n",
       "      <th>0</th>\n",
       "      <td>1949-01</td>\n",
       "      <td>112</td>\n",
       "    </tr>\n",
       "    <tr>\n",
       "      <th>1</th>\n",
       "      <td>1949-02</td>\n",
       "      <td>118</td>\n",
       "    </tr>\n",
       "    <tr>\n",
       "      <th>2</th>\n",
       "      <td>1949-03</td>\n",
       "      <td>132</td>\n",
       "    </tr>\n",
       "    <tr>\n",
       "      <th>3</th>\n",
       "      <td>1949-04</td>\n",
       "      <td>129</td>\n",
       "    </tr>\n",
       "    <tr>\n",
       "      <th>4</th>\n",
       "      <td>1949-05</td>\n",
       "      <td>121</td>\n",
       "    </tr>\n",
       "    <tr>\n",
       "      <th>5</th>\n",
       "      <td>1949-06</td>\n",
       "      <td>135</td>\n",
       "    </tr>\n",
       "    <tr>\n",
       "      <th>6</th>\n",
       "      <td>1949-07</td>\n",
       "      <td>148</td>\n",
       "    </tr>\n",
       "    <tr>\n",
       "      <th>7</th>\n",
       "      <td>1949-08</td>\n",
       "      <td>148</td>\n",
       "    </tr>\n",
       "    <tr>\n",
       "      <th>8</th>\n",
       "      <td>1949-09</td>\n",
       "      <td>136</td>\n",
       "    </tr>\n",
       "    <tr>\n",
       "      <th>9</th>\n",
       "      <td>1949-10</td>\n",
       "      <td>119</td>\n",
       "    </tr>\n",
       "    <tr>\n",
       "      <th>10</th>\n",
       "      <td>1949-11</td>\n",
       "      <td>104</td>\n",
       "    </tr>\n",
       "    <tr>\n",
       "      <th>11</th>\n",
       "      <td>1949-12</td>\n",
       "      <td>118</td>\n",
       "    </tr>\n",
       "    <tr>\n",
       "      <th>12</th>\n",
       "      <td>1950-01</td>\n",
       "      <td>115</td>\n",
       "    </tr>\n",
       "    <tr>\n",
       "      <th>13</th>\n",
       "      <td>1950-02</td>\n",
       "      <td>126</td>\n",
       "    </tr>\n",
       "    <tr>\n",
       "      <th>14</th>\n",
       "      <td>1950-03</td>\n",
       "      <td>141</td>\n",
       "    </tr>\n",
       "    <tr>\n",
       "      <th>15</th>\n",
       "      <td>1950-04</td>\n",
       "      <td>135</td>\n",
       "    </tr>\n",
       "    <tr>\n",
       "      <th>16</th>\n",
       "      <td>1950-05</td>\n",
       "      <td>125</td>\n",
       "    </tr>\n",
       "    <tr>\n",
       "      <th>17</th>\n",
       "      <td>1950-06</td>\n",
       "      <td>149</td>\n",
       "    </tr>\n",
       "    <tr>\n",
       "      <th>18</th>\n",
       "      <td>1950-07</td>\n",
       "      <td>170</td>\n",
       "    </tr>\n",
       "    <tr>\n",
       "      <th>19</th>\n",
       "      <td>1950-08</td>\n",
       "      <td>170</td>\n",
       "    </tr>\n",
       "    <tr>\n",
       "      <th>20</th>\n",
       "      <td>1950-09</td>\n",
       "      <td>158</td>\n",
       "    </tr>\n",
       "    <tr>\n",
       "      <th>21</th>\n",
       "      <td>1950-10</td>\n",
       "      <td>133</td>\n",
       "    </tr>\n",
       "    <tr>\n",
       "      <th>22</th>\n",
       "      <td>1950-11</td>\n",
       "      <td>114</td>\n",
       "    </tr>\n",
       "    <tr>\n",
       "      <th>23</th>\n",
       "      <td>1950-12</td>\n",
       "      <td>140</td>\n",
       "    </tr>\n",
       "    <tr>\n",
       "      <th>24</th>\n",
       "      <td>1951-01</td>\n",
       "      <td>145</td>\n",
       "    </tr>\n",
       "    <tr>\n",
       "      <th>25</th>\n",
       "      <td>1951-02</td>\n",
       "      <td>150</td>\n",
       "    </tr>\n",
       "    <tr>\n",
       "      <th>26</th>\n",
       "      <td>1951-03</td>\n",
       "      <td>178</td>\n",
       "    </tr>\n",
       "    <tr>\n",
       "      <th>27</th>\n",
       "      <td>1951-04</td>\n",
       "      <td>163</td>\n",
       "    </tr>\n",
       "    <tr>\n",
       "      <th>28</th>\n",
       "      <td>1951-05</td>\n",
       "      <td>172</td>\n",
       "    </tr>\n",
       "    <tr>\n",
       "      <th>29</th>\n",
       "      <td>1951-06</td>\n",
       "      <td>178</td>\n",
       "    </tr>\n",
       "    <tr>\n",
       "      <th>...</th>\n",
       "      <td>...</td>\n",
       "      <td>...</td>\n",
       "    </tr>\n",
       "    <tr>\n",
       "      <th>114</th>\n",
       "      <td>1958-07</td>\n",
       "      <td>491</td>\n",
       "    </tr>\n",
       "    <tr>\n",
       "      <th>115</th>\n",
       "      <td>1958-08</td>\n",
       "      <td>505</td>\n",
       "    </tr>\n",
       "    <tr>\n",
       "      <th>116</th>\n",
       "      <td>1958-09</td>\n",
       "      <td>404</td>\n",
       "    </tr>\n",
       "    <tr>\n",
       "      <th>117</th>\n",
       "      <td>1958-10</td>\n",
       "      <td>359</td>\n",
       "    </tr>\n",
       "    <tr>\n",
       "      <th>118</th>\n",
       "      <td>1958-11</td>\n",
       "      <td>310</td>\n",
       "    </tr>\n",
       "    <tr>\n",
       "      <th>119</th>\n",
       "      <td>1958-12</td>\n",
       "      <td>337</td>\n",
       "    </tr>\n",
       "    <tr>\n",
       "      <th>120</th>\n",
       "      <td>1959-01</td>\n",
       "      <td>360</td>\n",
       "    </tr>\n",
       "    <tr>\n",
       "      <th>121</th>\n",
       "      <td>1959-02</td>\n",
       "      <td>342</td>\n",
       "    </tr>\n",
       "    <tr>\n",
       "      <th>122</th>\n",
       "      <td>1959-03</td>\n",
       "      <td>406</td>\n",
       "    </tr>\n",
       "    <tr>\n",
       "      <th>123</th>\n",
       "      <td>1959-04</td>\n",
       "      <td>396</td>\n",
       "    </tr>\n",
       "    <tr>\n",
       "      <th>124</th>\n",
       "      <td>1959-05</td>\n",
       "      <td>420</td>\n",
       "    </tr>\n",
       "    <tr>\n",
       "      <th>125</th>\n",
       "      <td>1959-06</td>\n",
       "      <td>472</td>\n",
       "    </tr>\n",
       "    <tr>\n",
       "      <th>126</th>\n",
       "      <td>1959-07</td>\n",
       "      <td>548</td>\n",
       "    </tr>\n",
       "    <tr>\n",
       "      <th>127</th>\n",
       "      <td>1959-08</td>\n",
       "      <td>559</td>\n",
       "    </tr>\n",
       "    <tr>\n",
       "      <th>128</th>\n",
       "      <td>1959-09</td>\n",
       "      <td>463</td>\n",
       "    </tr>\n",
       "    <tr>\n",
       "      <th>129</th>\n",
       "      <td>1959-10</td>\n",
       "      <td>407</td>\n",
       "    </tr>\n",
       "    <tr>\n",
       "      <th>130</th>\n",
       "      <td>1959-11</td>\n",
       "      <td>362</td>\n",
       "    </tr>\n",
       "    <tr>\n",
       "      <th>131</th>\n",
       "      <td>1959-12</td>\n",
       "      <td>405</td>\n",
       "    </tr>\n",
       "    <tr>\n",
       "      <th>132</th>\n",
       "      <td>1960-01</td>\n",
       "      <td>417</td>\n",
       "    </tr>\n",
       "    <tr>\n",
       "      <th>133</th>\n",
       "      <td>1960-02</td>\n",
       "      <td>391</td>\n",
       "    </tr>\n",
       "    <tr>\n",
       "      <th>134</th>\n",
       "      <td>1960-03</td>\n",
       "      <td>419</td>\n",
       "    </tr>\n",
       "    <tr>\n",
       "      <th>135</th>\n",
       "      <td>1960-04</td>\n",
       "      <td>461</td>\n",
       "    </tr>\n",
       "    <tr>\n",
       "      <th>136</th>\n",
       "      <td>1960-05</td>\n",
       "      <td>472</td>\n",
       "    </tr>\n",
       "    <tr>\n",
       "      <th>137</th>\n",
       "      <td>1960-06</td>\n",
       "      <td>535</td>\n",
       "    </tr>\n",
       "    <tr>\n",
       "      <th>138</th>\n",
       "      <td>1960-07</td>\n",
       "      <td>622</td>\n",
       "    </tr>\n",
       "    <tr>\n",
       "      <th>139</th>\n",
       "      <td>1960-08</td>\n",
       "      <td>606</td>\n",
       "    </tr>\n",
       "    <tr>\n",
       "      <th>140</th>\n",
       "      <td>1960-09</td>\n",
       "      <td>508</td>\n",
       "    </tr>\n",
       "    <tr>\n",
       "      <th>141</th>\n",
       "      <td>1960-10</td>\n",
       "      <td>461</td>\n",
       "    </tr>\n",
       "    <tr>\n",
       "      <th>142</th>\n",
       "      <td>1960-11</td>\n",
       "      <td>390</td>\n",
       "    </tr>\n",
       "    <tr>\n",
       "      <th>143</th>\n",
       "      <td>1960-12</td>\n",
       "      <td>432</td>\n",
       "    </tr>\n",
       "  </tbody>\n",
       "</table>\n",
       "<p>144 rows × 2 columns</p>\n",
       "</div>"
      ],
      "text/plain": [
       "       Month  \\\n",
       "0    1949-01   \n",
       "1    1949-02   \n",
       "2    1949-03   \n",
       "3    1949-04   \n",
       "4    1949-05   \n",
       "5    1949-06   \n",
       "6    1949-07   \n",
       "7    1949-08   \n",
       "8    1949-09   \n",
       "9    1949-10   \n",
       "10   1949-11   \n",
       "11   1949-12   \n",
       "12   1950-01   \n",
       "13   1950-02   \n",
       "14   1950-03   \n",
       "15   1950-04   \n",
       "16   1950-05   \n",
       "17   1950-06   \n",
       "18   1950-07   \n",
       "19   1950-08   \n",
       "20   1950-09   \n",
       "21   1950-10   \n",
       "22   1950-11   \n",
       "23   1950-12   \n",
       "24   1951-01   \n",
       "25   1951-02   \n",
       "26   1951-03   \n",
       "27   1951-04   \n",
       "28   1951-05   \n",
       "29   1951-06   \n",
       "..       ...   \n",
       "114  1958-07   \n",
       "115  1958-08   \n",
       "116  1958-09   \n",
       "117  1958-10   \n",
       "118  1958-11   \n",
       "119  1958-12   \n",
       "120  1959-01   \n",
       "121  1959-02   \n",
       "122  1959-03   \n",
       "123  1959-04   \n",
       "124  1959-05   \n",
       "125  1959-06   \n",
       "126  1959-07   \n",
       "127  1959-08   \n",
       "128  1959-09   \n",
       "129  1959-10   \n",
       "130  1959-11   \n",
       "131  1959-12   \n",
       "132  1960-01   \n",
       "133  1960-02   \n",
       "134  1960-03   \n",
       "135  1960-04   \n",
       "136  1960-05   \n",
       "137  1960-06   \n",
       "138  1960-07   \n",
       "139  1960-08   \n",
       "140  1960-09   \n",
       "141  1960-10   \n",
       "142  1960-11   \n",
       "143  1960-12   \n",
       "\n",
       "     International airline passengers: monthly totals in thousands. Jan 49 ? Dec 60  \n",
       "0                                                  112                               \n",
       "1                                                  118                               \n",
       "2                                                  132                               \n",
       "3                                                  129                               \n",
       "4                                                  121                               \n",
       "5                                                  135                               \n",
       "6                                                  148                               \n",
       "7                                                  148                               \n",
       "8                                                  136                               \n",
       "9                                                  119                               \n",
       "10                                                 104                               \n",
       "11                                                 118                               \n",
       "12                                                 115                               \n",
       "13                                                 126                               \n",
       "14                                                 141                               \n",
       "15                                                 135                               \n",
       "16                                                 125                               \n",
       "17                                                 149                               \n",
       "18                                                 170                               \n",
       "19                                                 170                               \n",
       "20                                                 158                               \n",
       "21                                                 133                               \n",
       "22                                                 114                               \n",
       "23                                                 140                               \n",
       "24                                                 145                               \n",
       "25                                                 150                               \n",
       "26                                                 178                               \n",
       "27                                                 163                               \n",
       "28                                                 172                               \n",
       "29                                                 178                               \n",
       "..                                                 ...                               \n",
       "114                                                491                               \n",
       "115                                                505                               \n",
       "116                                                404                               \n",
       "117                                                359                               \n",
       "118                                                310                               \n",
       "119                                                337                               \n",
       "120                                                360                               \n",
       "121                                                342                               \n",
       "122                                                406                               \n",
       "123                                                396                               \n",
       "124                                                420                               \n",
       "125                                                472                               \n",
       "126                                                548                               \n",
       "127                                                559                               \n",
       "128                                                463                               \n",
       "129                                                407                               \n",
       "130                                                362                               \n",
       "131                                                405                               \n",
       "132                                                417                               \n",
       "133                                                391                               \n",
       "134                                                419                               \n",
       "135                                                461                               \n",
       "136                                                472                               \n",
       "137                                                535                               \n",
       "138                                                622                               \n",
       "139                                                606                               \n",
       "140                                                508                               \n",
       "141                                                461                               \n",
       "142                                                390                               \n",
       "143                                                432                               \n",
       "\n",
       "[144 rows x 2 columns]"
      ]
     },
     "execution_count": 3,
     "metadata": {},
     "output_type": "execute_result"
    }
   ],
   "source": [
    "data"
   ]
  },
  {
   "cell_type": "code",
   "execution_count": 4,
   "metadata": {},
   "outputs": [
    {
     "data": {
      "text/html": [
       "<div>\n",
       "<style scoped>\n",
       "    .dataframe tbody tr th:only-of-type {\n",
       "        vertical-align: middle;\n",
       "    }\n",
       "\n",
       "    .dataframe tbody tr th {\n",
       "        vertical-align: top;\n",
       "    }\n",
       "\n",
       "    .dataframe thead th {\n",
       "        text-align: right;\n",
       "    }\n",
       "</style>\n",
       "<table border=\"1\" class=\"dataframe\">\n",
       "  <thead>\n",
       "    <tr style=\"text-align: right;\">\n",
       "      <th></th>\n",
       "      <th>International airline passengers: monthly totals in thousands. Jan 49 ? Dec 60</th>\n",
       "    </tr>\n",
       "  </thead>\n",
       "  <tbody>\n",
       "    <tr>\n",
       "      <th>count</th>\n",
       "      <td>144.000000</td>\n",
       "    </tr>\n",
       "    <tr>\n",
       "      <th>mean</th>\n",
       "      <td>280.298611</td>\n",
       "    </tr>\n",
       "    <tr>\n",
       "      <th>std</th>\n",
       "      <td>119.966317</td>\n",
       "    </tr>\n",
       "    <tr>\n",
       "      <th>min</th>\n",
       "      <td>104.000000</td>\n",
       "    </tr>\n",
       "    <tr>\n",
       "      <th>25%</th>\n",
       "      <td>180.000000</td>\n",
       "    </tr>\n",
       "    <tr>\n",
       "      <th>50%</th>\n",
       "      <td>265.500000</td>\n",
       "    </tr>\n",
       "    <tr>\n",
       "      <th>75%</th>\n",
       "      <td>360.500000</td>\n",
       "    </tr>\n",
       "    <tr>\n",
       "      <th>max</th>\n",
       "      <td>622.000000</td>\n",
       "    </tr>\n",
       "  </tbody>\n",
       "</table>\n",
       "</div>"
      ],
      "text/plain": [
       "       International airline passengers: monthly totals in thousands. Jan 49 ? Dec 60\n",
       "count                                         144.000000                             \n",
       "mean                                          280.298611                             \n",
       "std                                           119.966317                             \n",
       "min                                           104.000000                             \n",
       "25%                                           180.000000                             \n",
       "50%                                           265.500000                             \n",
       "75%                                           360.500000                             \n",
       "max                                           622.000000                             "
      ]
     },
     "execution_count": 4,
     "metadata": {},
     "output_type": "execute_result"
    }
   ],
   "source": [
    "data.describe()"
   ]
  },
  {
   "cell_type": "code",
   "execution_count": 5,
   "metadata": {
    "scrolled": true
   },
   "outputs": [
    {
     "data": {
      "image/png": "[encoded data removed]",
      "text/plain": [
       "<Figure size 432x288 with 1 Axes>"
      ]
     },
     "metadata": {
      "needs_background": "light"
     },
     "output_type": "display_data"
    }
   ],
   "source": [
    "dataset = data.iloc[:,1].values\n",
    "plt.plot(dataset)\n",
    "plt.xlabel(\"time\")\n",
    "plt.ylabel(\"Number of Passenger\")\n",
    "plt.title(\"international airline passenger\")\n",
    "plt.show()"
   ]
  },
  {
   "cell_type": "markdown",
   "metadata": {},
   "source": [
    " ##  Preprocessing Data\n",
    "    reshape\n",
    "    change type\n",
    "    scaling\n",
    "    train test split\n",
    "    Create dataset"
   ]
  },
  {
   "cell_type": "code",
   "execution_count": 6,
   "metadata": {},
   "outputs": [
    {
     "data": {
      "text/plain": [
       "(144,)"
      ]
     },
     "execution_count": 6,
     "metadata": {},
     "output_type": "execute_result"
    }
   ],
   "source": [
    "dataset.shape"
   ]
  },
  {
   "cell_type": "code",
   "execution_count": 7,
   "metadata": {},
   "outputs": [
    {
     "data": {
      "text/plain": [
       "(144, 1)"
      ]
     },
     "execution_count": 7,
     "metadata": {},
     "output_type": "execute_result"
    }
   ],
   "source": [
    "dataset = dataset.reshape(-1,1)\n",
    "dataset = dataset.astype(\"float32\")\n",
    "dataset.shape"
   ]
  },
  {
   "cell_type": "code",
   "execution_count": 8,
   "metadata": {},
   "outputs": [
    {
     "data": {
      "text/plain": [
       "array([[112.],\n",
       "       [118.],\n",
       "       [132.],\n",
       "       [129.],\n",
       "       [121.]], dtype=float32)"
      ]
     },
     "execution_count": 8,
     "metadata": {},
     "output_type": "execute_result"
    }
   ],
   "source": [
    "dataset[:5]"
   ]
  },
  {
   "cell_type": "code",
   "execution_count": 9,
   "metadata": {},
   "outputs": [
    {
     "data": {
      "image/png": "[encoded data removed]",
      "text/plain": [
       "<Figure size 432x288 with 1 Axes>"
      ]
     },
     "metadata": {
      "needs_background": "light"
     },
     "output_type": "display_data"
    }
   ],
   "source": [
    "# Feature Scaling\n",
    "from sklearn.preprocessing import MinMaxScaler\n",
    "scaler = MinMaxScaler(feature_range = (0, 1))\n",
    "dataset_scaled = scaler.fit_transform(dataset)\n",
    "plt.plot(dataset_scaled)\n",
    "plt.show()"
   ]
  },
  {
   "cell_type": "code",
   "execution_count": 10,
   "metadata": {},
   "outputs": [
    {
     "data": {
      "text/plain": [
       "array([[0.01544401],\n",
       "       [0.02702703],\n",
       "       [0.05405405],\n",
       "       [0.04826255],\n",
       "       [0.03281853]], dtype=float32)"
      ]
     },
     "execution_count": 10,
     "metadata": {},
     "output_type": "execute_result"
    }
   ],
   "source": [
    "dataset_scaled[:5]"
   ]
  },
  {
   "cell_type": "code",
   "execution_count": 11,
   "metadata": {},
   "outputs": [
    {
     "name": "stdout",
     "output_type": "stream",
     "text": [
      "train size: 86, test size: 58 \n"
     ]
    }
   ],
   "source": [
    "train_size = int(len(dataset) * 0.60)\n",
    "test_size = len(dataset) - train_size\n",
    "train = dataset_scaled[0:train_size,:]\n",
    "test = dataset_scaled[train_size:,:]\n",
    "print(\"train size: {}, test size: {} \".format(len(train), len(test)))\n"
   ]
  },
  {
   "cell_type": "code",
   "execution_count": 12,
   "metadata": {},
   "outputs": [],
   "source": [
    "\n",
    "time_stemp = 10\n",
    "dataX = []\n",
    "dataY = []\n",
    "for i in range(len(train)-time_stemp-1):\n",
    "    a = train[i:(i+time_stemp), 0]\n",
    "    dataX.append(a)\n",
    "    dataY.append(train[i + time_stemp, 0])\n",
    "trainX = np.array(dataX)\n",
    "trainY = np.array(dataY)  "
   ]
  },
  {
   "cell_type": "code",
   "execution_count": 13,
   "metadata": {},
   "outputs": [
    {
     "data": {
      "text/plain": [
       "(75, 10)"
      ]
     },
     "execution_count": 13,
     "metadata": {},
     "output_type": "execute_result"
    }
   ],
   "source": [
    "trainX.shape"
   ]
  },
  {
   "cell_type": "code",
   "execution_count": 14,
   "metadata": {},
   "outputs": [
    {
     "data": {
      "text/plain": [
       "(75,)"
      ]
     },
     "execution_count": 14,
     "metadata": {},
     "output_type": "execute_result"
    }
   ],
   "source": [
    "trainY.shape"
   ]
  },
  {
   "cell_type": "code",
   "execution_count": 15,
   "metadata": {},
   "outputs": [
    {
     "name": "stdout",
     "output_type": "stream",
     "text": [
      "shape of trainX:  (75, 10, 1)\n",
      "shape of testX:  (47, 10, 1)\n"
     ]
    }
   ],
   "source": [
    "dataX = []\n",
    "dataY = []\n",
    "for i in range(len(test)-time_stemp-1):\n",
    "    a = test[i:(i+time_stemp), 0]\n",
    "    dataX.append(a)\n",
    "    dataY.append(test[i + time_stemp, 0])\n",
    "testX = np.array(dataX)\n",
    "testY = np.array(dataY) \n",
    "trainX = np.reshape(trainX, (trainX.shape[0], trainX.shape[1], 1))\n",
    "testX = np.reshape(testX, (testX.shape[0], testX.shape[1], 1))\n",
    "print('shape of trainX: ', trainX.shape)\n",
    "print('shape of testX: ', testX.shape)"
   ]
  },
  {
   "cell_type": "markdown",
   "metadata": {},
   "source": [
    "## Create SimpleRNN  Model"
   ]
  },
  {
   "cell_type": "code",
   "execution_count": 16,
   "metadata": {},
   "outputs": [
    {
     "name": "stdout",
     "output_type": "stream",
     "text": [
      "WARNING:tensorflow:From C:\\Users\\Joseph\\Anaconda3\\envs\\tf_gpu\\lib\\site-packages\\tensorflow\\python\\framework\\op_def_library.py:263: colocate_with (from tensorflow.python.framework.ops) is deprecated and will be removed in a future version.\n",
      "Instructions for updating:\n",
      "Colocations handled automatically by placer.\n",
      "WARNING:tensorflow:From C:\\Users\\Joseph\\Anaconda3\\envs\\tf_gpu\\lib\\site-packages\\keras\\backend\\tensorflow_backend.py:3445: calling dropout (from tensorflow.python.ops.nn_ops) with keep_prob is deprecated and will be removed in a future version.\n",
      "Instructions for updating:\n",
      "Please use `rate` instead of `keep_prob`. Rate should be set to `rate = 1 - keep_prob`.\n"
     ]
    }
   ],
   "source": [
    "# Importing the Keras libraries and packages\n",
    "from keras.models import Sequential\n",
    "from keras.layers import Dense\n",
    "from keras.layers import SimpleRNN\n",
    "from keras.layers import Dropout\n",
    "\n",
    "# Initialising the RNN\n",
    "regressor = Sequential()\n",
    "\n",
    "# Adding the first RNN layer and some Dropout regularisation\n",
    "regressor.add(SimpleRNN(units = 100,activation='relu', return_sequences = True, input_shape = (trainX.shape[1], 1)))\n",
    "regressor.add(Dropout(0.2))\n",
    "\n",
    "# Adding a second RNN layer and some Dropout regularisation\n",
    "regressor.add(SimpleRNN(units = 80,activation='relu', return_sequences = True))\n",
    "regressor.add(Dropout(0.2))\n",
    "\n",
    "# Adding a third RNN layer and some Dropout regularisation\n",
    "regressor.add(SimpleRNN(units = 50,activation='relu', return_sequences = True))\n",
    "regressor.add(Dropout(0.2))\n",
    "\n",
    "# Adding a fourth RNN layer and some Dropout regularisation\n",
    "regressor.add(SimpleRNN(units = 30,activation='relu', return_sequences = True))\n",
    "regressor.add(Dropout(0.2))\n",
    "\n",
    "# Adding a fifth RNN layer and some Dropout regularisation\n",
    "regressor.add(SimpleRNN(units = 20))\n",
    "regressor.add(Dropout(0.2))\n",
    "\n",
    "# Adding the output layer\n",
    "regressor.add(Dense(units = 1))\n",
    "\n",
    "# Compiling the RNN\n",
    "regressor.compile(optimizer = 'adam', loss = 'mean_squared_error')\n"
   ]
  },
  {
   "cell_type": "code",
   "execution_count": 17,
   "metadata": {},
   "outputs": [
    {
     "name": "stdout",
     "output_type": "stream",
     "text": [
      "_________________________________________________________________\n",
      "Layer (type)                 Output Shape              Param #   \n",
      "=================================================================\n",
      "simple_rnn_1 (SimpleRNN)     (None, 10, 100)           10200     \n",
      "_________________________________________________________________\n",
      "dropout_1 (Dropout)          (None, 10, 100)           0         \n",
      "_________________________________________________________________\n",
      "simple_rnn_2 (SimpleRNN)     (None, 10, 80)            14480     \n",
      "_________________________________________________________________\n",
      "dropout_2 (Dropout)          (None, 10, 80)            0         \n",
      "_________________________________________________________________\n",
      "simple_rnn_3 (SimpleRNN)     (None, 10, 50)            6550      \n",
      "_________________________________________________________________\n",
      "dropout_3 (Dropout)          (None, 10, 50)            0         \n",
      "_________________________________________________________________\n",
      "simple_rnn_4 (SimpleRNN)     (None, 10, 30)            2430      \n",
      "_________________________________________________________________\n",
      "dropout_4 (Dropout)          (None, 10, 30)            0         \n",
      "_________________________________________________________________\n",
      "simple_rnn_5 (SimpleRNN)     (None, 20)                1020      \n",
      "_________________________________________________________________\n",
      "dropout_5 (Dropout)          (None, 20)                0         \n",
      "_________________________________________________________________\n",
      "dense_1 (Dense)              (None, 1)                 21        \n",
      "=================================================================\n",
      "Total params: 34,701\n",
      "Trainable params: 34,701\n",
      "Non-trainable params: 0\n",
      "_________________________________________________________________\n"
     ]
    }
   ],
   "source": [
    "regressor.summary()"
   ]
  },
  {
   "cell_type": "code",
   "execution_count": 18,
   "metadata": {
    "scrolled": true
   },
   "outputs": [
    {
     "name": "stdout",
     "output_type": "stream",
     "text": [
      "WARNING:tensorflow:From C:\\Users\\Joseph\\Anaconda3\\envs\\tf_gpu\\lib\\site-packages\\tensorflow\\python\\ops\\math_ops.py:3066: to_int32 (from tensorflow.python.ops.math_ops) is deprecated and will be removed in a future version.\n",
      "Instructions for updating:\n",
      "Use tf.cast instead.\n",
      "Epoch 1/250\n",
      "75/75 [==============================] - 2s 25ms/step - loss: 0.0360\n",
      "Epoch 2/250\n",
      "75/75 [==============================] - 0s 802us/step - loss: 0.0133\n",
      "Epoch 3/250\n",
      "75/75 [==============================] - 0s 797us/step - loss: 0.0151\n",
      "Epoch 4/250\n",
      "75/75 [==============================] - 0s 769us/step - loss: 0.0108\n",
      "Epoch 5/250\n",
      "75/75 [==============================] - 0s 789us/step - loss: 0.0086\n",
      "Epoch 6/250\n",
      "75/75 [==============================] - 0s 786us/step - loss: 0.0090\n",
      "Epoch 7/250\n",
      "75/75 [==============================] - 0s 789us/step - loss: 0.0084\n",
      "Epoch 8/250\n",
      "75/75 [==============================] - 0s 837us/step - loss: 0.0071\n",
      "Epoch 9/250\n",
      "75/75 [==============================] - 0s 836us/step - loss: 0.0107\n",
      "Epoch 10/250\n",
      "75/75 [==============================] - 0s 802us/step - loss: 0.0087\n",
      "Epoch 11/250\n",
      "75/75 [==============================] - 0s 795us/step - loss: 0.0087\n",
      "Epoch 12/250\n",
      "75/75 [==============================] - 0s 809us/step - loss: 0.0060\n",
      "Epoch 13/250\n",
      "75/75 [==============================] - 0s 773us/step - loss: 0.0058\n",
      "Epoch 14/250\n",
      "75/75 [==============================] - 0s 797us/step - loss: 0.0063\n",
      "Epoch 15/250\n",
      "75/75 [==============================] - 0s 762us/step - loss: 0.0052\n",
      "Epoch 16/250\n",
      "75/75 [==============================] - 0s 842us/step - loss: 0.0053\n",
      "Epoch 17/250\n",
      "75/75 [==============================] - 0s 796us/step - loss: 0.0074\n",
      "Epoch 18/250\n",
      "75/75 [==============================] - 0s 749us/step - loss: 0.0048\n",
      "Epoch 19/250\n",
      "75/75 [==============================] - 0s 783us/step - loss: 0.0060\n",
      "Epoch 20/250\n",
      "75/75 [==============================] - 0s 802us/step - loss: 0.0076\n",
      "Epoch 21/250\n",
      "75/75 [==============================] - 0s 763us/step - loss: 0.0055\n",
      "Epoch 22/250\n",
      "75/75 [==============================] - 0s 792us/step - loss: 0.0053\n",
      "Epoch 23/250\n",
      "75/75 [==============================] - 0s 784us/step - loss: 0.0061\n",
      "Epoch 24/250\n",
      "75/75 [==============================] - 0s 810us/step - loss: 0.0044\n",
      "Epoch 25/250\n",
      "75/75 [==============================] - 0s 815us/step - loss: 0.0067\n",
      "Epoch 26/250\n",
      "75/75 [==============================] - 0s 776us/step - loss: 0.0050\n",
      "Epoch 27/250\n",
      "75/75 [==============================] - 0s 796us/step - loss: 0.0072\n",
      "Epoch 28/250\n",
      "75/75 [==============================] - 0s 818us/step - loss: 0.0057\n",
      "Epoch 29/250\n",
      "75/75 [==============================] - 0s 824us/step - loss: 0.0055\n",
      "Epoch 30/250\n",
      "75/75 [==============================] - 0s 816us/step - loss: 0.0053\n",
      "Epoch 31/250\n",
      "75/75 [==============================] - 0s 770us/step - loss: 0.0046\n",
      "Epoch 32/250\n",
      "75/75 [==============================] - 0s 809us/step - loss: 0.0052\n",
      "Epoch 33/250\n",
      "75/75 [==============================] - 0s 823us/step - loss: 0.0069\n",
      "Epoch 34/250\n",
      "75/75 [==============================] - 0s 785us/step - loss: 0.0051\n",
      "Epoch 35/250\n",
      "75/75 [==============================] - 0s 789us/step - loss: 0.0056\n",
      "Epoch 36/250\n",
      "75/75 [==============================] - 0s 783us/step - loss: 0.0044\n",
      "Epoch 37/250\n",
      "75/75 [==============================] - 0s 782us/step - loss: 0.0052\n",
      "Epoch 38/250\n",
      "75/75 [==============================] - 0s 802us/step - loss: 0.0044\n",
      "Epoch 39/250\n",
      "75/75 [==============================] - 0s 784us/step - loss: 0.0039\n",
      "Epoch 40/250\n",
      "75/75 [==============================] - 0s 789us/step - loss: 0.0038\n",
      "Epoch 41/250\n",
      "75/75 [==============================] - 0s 783us/step - loss: 0.0064\n",
      "Epoch 42/250\n",
      "75/75 [==============================] - 0s 829us/step - loss: 0.0047\n",
      "Epoch 43/250\n",
      "75/75 [==============================] - 0s 789us/step - loss: 0.0057\n",
      "Epoch 44/250\n",
      "75/75 [==============================] - 0s 788us/step - loss: 0.0049\n",
      "Epoch 45/250\n",
      "75/75 [==============================] - 0s 775us/step - loss: 0.0042\n",
      "Epoch 46/250\n",
      "75/75 [==============================] - 0s 770us/step - loss: 0.0041\n",
      "Epoch 47/250\n",
      "75/75 [==============================] - 0s 803us/step - loss: 0.0054\n",
      "Epoch 48/250\n",
      "75/75 [==============================] - 0s 775us/step - loss: 0.0044\n",
      "Epoch 49/250\n",
      "75/75 [==============================] - 0s 772us/step - loss: 0.0050\n",
      "Epoch 50/250\n",
      "75/75 [==============================] - 0s 802us/step - loss: 0.0044\n",
      "Epoch 51/250\n",
      "75/75 [==============================] - 0s 813us/step - loss: 0.0050\n",
      "Epoch 52/250\n",
      "75/75 [==============================] - 0s 759us/step - loss: 0.0048\n",
      "Epoch 53/250\n",
      "75/75 [==============================] - 0s 775us/step - loss: 0.0038\n",
      "Epoch 54/250\n",
      "75/75 [==============================] - 0s 797us/step - loss: 0.0037\n",
      "Epoch 55/250\n",
      "75/75 [==============================] - 0s 802us/step - loss: 0.0040\n",
      "Epoch 56/250\n",
      "75/75 [==============================] - 0s 823us/step - loss: 0.0045\n",
      "Epoch 57/250\n",
      "75/75 [==============================] - 0s 838us/step - loss: 0.0067\n",
      "Epoch 58/250\n",
      "75/75 [==============================] - 0s 829us/step - loss: 0.0036\n",
      "Epoch 59/250\n",
      "75/75 [==============================] - 0s 816us/step - loss: 0.0049\n",
      "Epoch 60/250\n",
      "75/75 [==============================] - 0s 809us/step - loss: 0.0037\n",
      "Epoch 61/250\n",
      "75/75 [==============================] - 0s 772us/step - loss: 0.0056\n",
      "Epoch 62/250\n",
      "75/75 [==============================] - 0s 798us/step - loss: 0.0045\n",
      "Epoch 63/250\n",
      "75/75 [==============================] - 0s 775us/step - loss: 0.0062\n",
      "Epoch 64/250\n",
      "75/75 [==============================] - 0s 814us/step - loss: 0.0040\n",
      "Epoch 65/250\n",
      "75/75 [==============================] - 0s 862us/step - loss: 0.0045\n",
      "Epoch 66/250\n",
      "75/75 [==============================] - 0s 818us/step - loss: 0.0040\n",
      "Epoch 67/250\n",
      "75/75 [==============================] - 0s 896us/step - loss: 0.0038\n",
      "Epoch 68/250\n",
      "75/75 [==============================] - 0s 796us/step - loss: 0.0061\n",
      "Epoch 69/250\n",
      "75/75 [==============================] - 0s 803us/step - loss: 0.0038\n",
      "Epoch 70/250\n",
      "75/75 [==============================] - 0s 784us/step - loss: 0.0031\n",
      "Epoch 71/250\n",
      "75/75 [==============================] - 0s 815us/step - loss: 0.0045\n",
      "Epoch 72/250\n",
      "75/75 [==============================] - 0s 840us/step - loss: 0.0030\n",
      "Epoch 73/250\n",
      "75/75 [==============================] - 0s 822us/step - loss: 0.0035\n",
      "Epoch 74/250\n",
      "75/75 [==============================] - 0s 805us/step - loss: 0.0039\n",
      "Epoch 75/250\n",
      "75/75 [==============================] - 0s 785us/step - loss: 0.0042\n",
      "Epoch 76/250\n",
      "75/75 [==============================] - 0s 802us/step - loss: 0.0045\n",
      "Epoch 77/250\n",
      "75/75 [==============================] - 0s 824us/step - loss: 0.0040\n",
      "Epoch 78/250\n",
      "75/75 [==============================] - 0s 799us/step - loss: 0.0035\n",
      "Epoch 79/250\n",
      "75/75 [==============================] - 0s 815us/step - loss: 0.0059\n",
      "Epoch 80/250\n",
      "75/75 [==============================] - 0s 816us/step - loss: 0.0038\n",
      "Epoch 81/250\n",
      "75/75 [==============================] - 0s 789us/step - loss: 0.0048\n",
      "Epoch 82/250\n",
      "75/75 [==============================] - 0s 813us/step - loss: 0.0037\n",
      "Epoch 83/250\n",
      "75/75 [==============================] - 0s 776us/step - loss: 0.0039\n",
      "Epoch 84/250\n",
      "75/75 [==============================] - 0s 882us/step - loss: 0.0039\n",
      "Epoch 85/250\n",
      "75/75 [==============================] - 0s 797us/step - loss: 0.0032\n",
      "Epoch 86/250\n",
      "75/75 [==============================] - 0s 836us/step - loss: 0.0047\n",
      "Epoch 87/250\n",
      "75/75 [==============================] - 0s 810us/step - loss: 0.0033\n",
      "Epoch 88/250\n",
      "75/75 [==============================] - 0s 796us/step - loss: 0.0035\n",
      "Epoch 89/250\n",
      "75/75 [==============================] - 0s 802us/step - loss: 0.0036\n",
      "Epoch 90/250\n",
      "75/75 [==============================] - 0s 823us/step - loss: 0.0024\n",
      "Epoch 91/250\n",
      "75/75 [==============================] - 0s 816us/step - loss: 0.0030\n",
      "Epoch 92/250\n",
      "75/75 [==============================] - 0s 775us/step - loss: 0.0026\n",
      "Epoch 93/250\n",
      "75/75 [==============================] - 0s 796us/step - loss: 0.0038\n",
      "Epoch 94/250\n",
      "75/75 [==============================] - 0s 776us/step - loss: 0.0032\n",
      "Epoch 95/250\n",
      "75/75 [==============================] - 0s 809us/step - loss: 0.0043\n",
      "Epoch 96/250\n",
      "75/75 [==============================] - 0s 802us/step - loss: 0.0040\n",
      "Epoch 97/250\n",
      "75/75 [==============================] - 0s 829us/step - loss: 0.0036\n",
      "Epoch 98/250\n",
      "75/75 [==============================] - 0s 842us/step - loss: 0.0040\n",
      "Epoch 99/250\n",
      "75/75 [==============================] - 0s 789us/step - loss: 0.0032\n",
      "Epoch 100/250\n",
      "75/75 [==============================] - 0s 783us/step - loss: 0.0033\n",
      "Epoch 101/250\n",
      "75/75 [==============================] - 0s 892us/step - loss: 0.0043\n",
      "Epoch 102/250\n",
      "75/75 [==============================] - 0s 776us/step - loss: 0.0029\n",
      "Epoch 103/250\n",
      "75/75 [==============================] - 0s 776us/step - loss: 0.0045\n",
      "Epoch 104/250\n",
      "75/75 [==============================] - 0s 796us/step - loss: 0.0036\n",
      "Epoch 105/250\n",
      "75/75 [==============================] - 0s 799us/step - loss: 0.0036\n",
      "Epoch 106/250\n",
      "75/75 [==============================] - 0s 786us/step - loss: 0.0038\n",
      "Epoch 107/250\n",
      "75/75 [==============================] - 0s 762us/step - loss: 0.0027\n",
      "Epoch 108/250\n",
      "75/75 [==============================] - 0s 783us/step - loss: 0.0027\n",
      "Epoch 109/250\n",
      "75/75 [==============================] - 0s 796us/step - loss: 0.0033\n",
      "Epoch 110/250\n",
      "75/75 [==============================] - 0s 831us/step - loss: 0.0039\n",
      "Epoch 111/250\n",
      "75/75 [==============================] - 0s 798us/step - loss: 0.0032\n",
      "Epoch 112/250\n",
      "75/75 [==============================] - 0s 789us/step - loss: 0.0049\n",
      "Epoch 113/250\n",
      "75/75 [==============================] - 0s 769us/step - loss: 0.0045\n",
      "Epoch 114/250\n",
      "75/75 [==============================] - 0s 809us/step - loss: 0.0029\n",
      "Epoch 115/250\n",
      "75/75 [==============================] - 0s 829us/step - loss: 0.0035\n",
      "Epoch 116/250\n",
      "75/75 [==============================] - 0s 772us/step - loss: 0.0050\n",
      "Epoch 117/250\n",
      "75/75 [==============================] - 0s 789us/step - loss: 0.0035\n",
      "Epoch 118/250\n",
      "75/75 [==============================] - 0s 882us/step - loss: 0.0038\n",
      "Epoch 119/250\n",
      "75/75 [==============================] - 0s 802us/step - loss: 0.0023\n",
      "Epoch 120/250\n",
      "75/75 [==============================] - 0s 789us/step - loss: 0.0041\n",
      "Epoch 121/250\n",
      "75/75 [==============================] - 0s 770us/step - loss: 0.0043\n",
      "Epoch 122/250\n",
      "75/75 [==============================] - 0s 775us/step - loss: 0.0029\n",
      "Epoch 123/250\n",
      "75/75 [==============================] - 0s 843us/step - loss: 0.0036\n",
      "Epoch 124/250\n",
      "75/75 [==============================] - 0s 809us/step - loss: 0.0035\n",
      "Epoch 125/250\n",
      "75/75 [==============================] - 0s 775us/step - loss: 0.0026\n",
      "Epoch 126/250\n",
      "75/75 [==============================] - 0s 796us/step - loss: 0.0028\n",
      "Epoch 127/250\n",
      "75/75 [==============================] - 0s 829us/step - loss: 0.0029\n",
      "Epoch 128/250\n",
      "75/75 [==============================] - 0s 816us/step - loss: 0.0028\n",
      "Epoch 129/250\n",
      "75/75 [==============================] - 0s 778us/step - loss: 0.0036\n",
      "Epoch 130/250\n",
      "75/75 [==============================] - 0s 775us/step - loss: 0.0029\n",
      "Epoch 131/250\n",
      "75/75 [==============================] - 0s 814us/step - loss: 0.0034\n",
      "Epoch 132/250\n",
      "75/75 [==============================] - 0s 829us/step - loss: 0.0033\n",
      "Epoch 133/250\n",
      "75/75 [==============================] - 0s 795us/step - loss: 0.0028\n",
      "Epoch 134/250\n",
      "75/75 [==============================] - 0s 783us/step - loss: 0.0028\n",
      "Epoch 135/250\n",
      "75/75 [==============================] - 0s 909us/step - loss: 0.0024\n",
      "Epoch 136/250\n",
      "75/75 [==============================] - 0s 786us/step - loss: 0.0028\n",
      "Epoch 137/250\n",
      "75/75 [==============================] - 0s 789us/step - loss: 0.0026\n",
      "Epoch 138/250\n",
      "75/75 [==============================] - 0s 789us/step - loss: 0.0023\n",
      "Epoch 139/250\n",
      "75/75 [==============================] - 0s 805us/step - loss: 0.0032\n",
      "Epoch 140/250\n",
      "75/75 [==============================] - 0s 789us/step - loss: 0.0026\n",
      "Epoch 141/250\n",
      "75/75 [==============================] - 0s 784us/step - loss: 0.0027\n",
      "Epoch 142/250\n",
      "75/75 [==============================] - 0s 813us/step - loss: 0.0033\n",
      "Epoch 143/250\n",
      "75/75 [==============================] - 0s 775us/step - loss: 0.0026\n",
      "Epoch 144/250\n",
      "75/75 [==============================] - 0s 769us/step - loss: 0.0036\n",
      "Epoch 145/250\n",
      "75/75 [==============================] - 0s 775us/step - loss: 0.0028\n",
      "Epoch 146/250\n",
      "75/75 [==============================] - 0s 839us/step - loss: 0.0022\n",
      "Epoch 147/250\n",
      "75/75 [==============================] - 0s 877us/step - loss: 0.0021\n",
      "Epoch 148/250\n",
      "75/75 [==============================] - 0s 829us/step - loss: 0.0036\n",
      "Epoch 149/250\n",
      "75/75 [==============================] - 0s 811us/step - loss: 0.0040\n",
      "Epoch 150/250\n",
      "75/75 [==============================] - 0s 829us/step - loss: 0.0035\n",
      "Epoch 151/250\n",
      "75/75 [==============================] - 0s 830us/step - loss: 0.0043\n",
      "Epoch 152/250\n",
      "75/75 [==============================] - 0s 891us/step - loss: 0.0033\n",
      "Epoch 153/250\n",
      "75/75 [==============================] - 0s 829us/step - loss: 0.0047\n",
      "Epoch 154/250\n",
      "75/75 [==============================] - 0s 816us/step - loss: 0.0040\n",
      "Epoch 155/250\n",
      "75/75 [==============================] - 0s 825us/step - loss: 0.0032\n",
      "Epoch 156/250\n",
      "75/75 [==============================] - 0s 816us/step - loss: 0.0041\n",
      "Epoch 157/250\n",
      "75/75 [==============================] - 0s 796us/step - loss: 0.0029\n",
      "Epoch 158/250\n",
      "75/75 [==============================] - 0s 789us/step - loss: 0.0047\n",
      "Epoch 159/250\n",
      "75/75 [==============================] - 0s 804us/step - loss: 0.0021\n",
      "Epoch 160/250\n",
      "75/75 [==============================] - 0s 825us/step - loss: 0.0023\n",
      "Epoch 161/250\n",
      "75/75 [==============================] - 0s 789us/step - loss: 0.0035\n",
      "Epoch 162/250\n",
      "75/75 [==============================] - 0s 811us/step - loss: 0.0030\n",
      "Epoch 163/250\n",
      "75/75 [==============================] - 0s 816us/step - loss: 0.0029\n",
      "Epoch 164/250\n",
      "75/75 [==============================] - 0s 829us/step - loss: 0.0032\n",
      "Epoch 165/250\n",
      "75/75 [==============================] - 0s 812us/step - loss: 0.0022\n",
      "Epoch 166/250\n",
      "75/75 [==============================] - 0s 796us/step - loss: 0.0025\n",
      "Epoch 167/250\n",
      "75/75 [==============================] - 0s 806us/step - loss: 0.0031\n",
      "Epoch 168/250\n",
      "75/75 [==============================] - 0s 802us/step - loss: 0.0030\n",
      "Epoch 169/250\n",
      "75/75 [==============================] - 0s 842us/step - loss: 0.0030\n",
      "Epoch 170/250\n",
      "75/75 [==============================] - 0s 787us/step - loss: 0.0028\n",
      "Epoch 171/250\n",
      "75/75 [==============================] - 0s 809us/step - loss: 0.0025\n",
      "Epoch 172/250\n",
      "75/75 [==============================] - 0s 784us/step - loss: 0.0028\n",
      "Epoch 173/250\n",
      "75/75 [==============================] - 0s 784us/step - loss: 0.0026\n",
      "Epoch 174/250\n",
      "75/75 [==============================] - 0s 802us/step - loss: 0.0028\n",
      "Epoch 175/250\n",
      "75/75 [==============================] - 0s 816us/step - loss: 0.0031\n",
      "Epoch 176/250\n",
      "75/75 [==============================] - 0s 869us/step - loss: 0.0029\n",
      "Epoch 177/250\n",
      "75/75 [==============================] - 0s 829us/step - loss: 0.0033\n",
      "Epoch 178/250\n",
      "75/75 [==============================] - 0s 856us/step - loss: 0.0024\n",
      "Epoch 179/250\n",
      "75/75 [==============================] - 0s 789us/step - loss: 0.0029\n",
      "Epoch 180/250\n",
      "75/75 [==============================] - 0s 782us/step - loss: 0.0025\n",
      "Epoch 181/250\n",
      "75/75 [==============================] - 0s 811us/step - loss: 0.0028\n",
      "Epoch 182/250\n",
      "75/75 [==============================] - 0s 802us/step - loss: 0.0023\n",
      "Epoch 183/250\n",
      "75/75 [==============================] - 0s 802us/step - loss: 0.0025\n",
      "Epoch 184/250\n",
      "75/75 [==============================] - 0s 816us/step - loss: 0.0019\n",
      "Epoch 185/250\n",
      "75/75 [==============================] - 0s 870us/step - loss: 0.0023\n",
      "Epoch 186/250\n",
      "75/75 [==============================] - 0s 797us/step - loss: 0.0023\n",
      "Epoch 187/250\n",
      "75/75 [==============================] - 0s 802us/step - loss: 0.0036\n",
      "Epoch 188/250\n",
      "75/75 [==============================] - 0s 825us/step - loss: 0.0029\n",
      "Epoch 189/250\n",
      "75/75 [==============================] - 0s 802us/step - loss: 0.0026\n",
      "Epoch 190/250\n",
      "75/75 [==============================] - 0s 802us/step - loss: 0.0042\n",
      "Epoch 191/250\n",
      "75/75 [==============================] - 0s 809us/step - loss: 0.0028\n",
      "Epoch 192/250\n",
      "75/75 [==============================] - 0s 802us/step - loss: 0.0031\n",
      "Epoch 193/250\n",
      "75/75 [==============================] - 0s 810us/step - loss: 0.0023\n",
      "Epoch 194/250\n",
      "75/75 [==============================] - 0s 829us/step - loss: 0.0023\n",
      "Epoch 195/250\n",
      "75/75 [==============================] - 0s 856us/step - loss: 0.0020\n",
      "Epoch 196/250\n",
      "75/75 [==============================] - 0s 823us/step - loss: 0.0028\n",
      "Epoch 197/250\n",
      "75/75 [==============================] - 0s 816us/step - loss: 0.0027\n",
      "Epoch 198/250\n",
      "75/75 [==============================] - 0s 817us/step - loss: 0.0028\n",
      "Epoch 199/250\n",
      "75/75 [==============================] - 0s 797us/step - loss: 0.0026\n",
      "Epoch 200/250\n",
      "75/75 [==============================] - 0s 776us/step - loss: 0.0017\n",
      "Epoch 201/250\n",
      "75/75 [==============================] - 0s 842us/step - loss: 0.0017\n",
      "Epoch 202/250\n",
      "75/75 [==============================] - 0s 931us/step - loss: 0.0019\n",
      "Epoch 203/250\n",
      "75/75 [==============================] - 0s 815us/step - loss: 0.0025\n",
      "Epoch 204/250\n",
      "75/75 [==============================] - 0s 798us/step - loss: 0.0018\n",
      "Epoch 205/250\n",
      "75/75 [==============================] - 0s 829us/step - loss: 0.0027\n",
      "Epoch 206/250\n",
      "75/75 [==============================] - 0s 789us/step - loss: 0.0016\n",
      "Epoch 207/250\n",
      "75/75 [==============================] - 0s 805us/step - loss: 0.0024\n",
      "Epoch 208/250\n",
      "75/75 [==============================] - 0s 802us/step - loss: 0.0023\n",
      "Epoch 209/250\n",
      "75/75 [==============================] - 0s 816us/step - loss: 0.0030\n",
      "Epoch 210/250\n",
      "75/75 [==============================] - 0s 789us/step - loss: 0.0020\n",
      "Epoch 211/250\n",
      "75/75 [==============================] - 0s 849us/step - loss: 0.0020\n",
      "Epoch 212/250\n",
      "75/75 [==============================] - 0s 816us/step - loss: 0.0020\n",
      "Epoch 213/250\n",
      "75/75 [==============================] - 0s 816us/step - loss: 0.0025\n",
      "Epoch 214/250\n",
      "75/75 [==============================] - 0s 784us/step - loss: 0.0019\n",
      "Epoch 215/250\n",
      "75/75 [==============================] - 0s 802us/step - loss: 0.0027\n",
      "Epoch 216/250\n",
      "75/75 [==============================] - 0s 815us/step - loss: 0.0017\n",
      "Epoch 217/250\n",
      "75/75 [==============================] - 0s 791us/step - loss: 0.0021\n",
      "Epoch 218/250\n",
      "75/75 [==============================] - 0s 788us/step - loss: 0.0022\n",
      "Epoch 219/250\n",
      "75/75 [==============================] - 0s 851us/step - loss: 0.0038\n",
      "Epoch 220/250\n",
      "75/75 [==============================] - 0s 789us/step - loss: 0.0026\n",
      "Epoch 221/250\n",
      "75/75 [==============================] - 0s 802us/step - loss: 0.0021\n",
      "Epoch 222/250\n",
      "75/75 [==============================] - 0s 774us/step - loss: 0.0026\n",
      "Epoch 223/250\n",
      "75/75 [==============================] - 0s 815us/step - loss: 0.0025\n",
      "Epoch 224/250\n",
      "75/75 [==============================] - 0s 830us/step - loss: 0.0027\n",
      "Epoch 225/250\n",
      "75/75 [==============================] - 0s 810us/step - loss: 0.0024\n",
      "Epoch 226/250\n",
      "75/75 [==============================] - 0s 856us/step - loss: 0.0020\n",
      "Epoch 227/250\n",
      "75/75 [==============================] - 0s 813us/step - loss: 0.0018\n",
      "Epoch 228/250\n",
      "75/75 [==============================] - 0s 802us/step - loss: 0.0020\n",
      "Epoch 229/250\n",
      "75/75 [==============================] - 0s 802us/step - loss: 0.0026\n",
      "Epoch 230/250\n",
      "75/75 [==============================] - 0s 796us/step - loss: 0.0024\n",
      "Epoch 231/250\n",
      "75/75 [==============================] - 0s 789us/step - loss: 0.0025\n",
      "Epoch 232/250\n",
      "75/75 [==============================] - 0s 784us/step - loss: 0.0022\n",
      "Epoch 233/250\n",
      "75/75 [==============================] - 0s 787us/step - loss: 0.0017\n",
      "Epoch 234/250\n",
      "75/75 [==============================] - 0s 789us/step - loss: 0.0018\n",
      "Epoch 235/250\n",
      "75/75 [==============================] - 0s 823us/step - loss: 0.0026\n",
      "Epoch 236/250\n",
      "75/75 [==============================] - 0s 896us/step - loss: 0.0017\n",
      "Epoch 237/250\n",
      "75/75 [==============================] - 0s 802us/step - loss: 0.0023\n",
      "Epoch 238/250\n",
      "75/75 [==============================] - 0s 805us/step - loss: 0.0018\n",
      "Epoch 239/250\n",
      "75/75 [==============================] - 0s 842us/step - loss: 0.0017\n",
      "Epoch 240/250\n",
      "75/75 [==============================] - 0s 849us/step - loss: 0.0020\n",
      "Epoch 241/250\n",
      "75/75 [==============================] - 0s 809us/step - loss: 0.0019\n",
      "Epoch 242/250\n",
      "75/75 [==============================] - 0s 789us/step - loss: 0.0018\n",
      "Epoch 243/250\n",
      "75/75 [==============================] - 0s 838us/step - loss: 0.0022\n",
      "Epoch 244/250\n",
      "75/75 [==============================] - 0s 809us/step - loss: 0.0025\n",
      "Epoch 245/250\n",
      "75/75 [==============================] - 0s 797us/step - loss: 0.0017\n",
      "Epoch 246/250\n",
      "75/75 [==============================] - 0s 789us/step - loss: 0.0018\n",
      "Epoch 247/250\n",
      "75/75 [==============================] - 0s 775us/step - loss: 0.0023\n",
      "Epoch 248/250\n",
      "75/75 [==============================] - 0s 790us/step - loss: 0.0025\n",
      "Epoch 249/250\n",
      "75/75 [==============================] - 0s 796us/step - loss: 0.0025\n",
      "Epoch 250/250\n",
      "75/75 [==============================] - 0s 802us/step - loss: 0.0026\n"
     ]
    },
    {
     "data": {
      "text/plain": [
       "<keras.callbacks.History at 0x2615e7e7668>"
      ]
     },
     "execution_count": 18,
     "metadata": {},
     "output_type": "execute_result"
    }
   ],
   "source": [
    "# Fitting the RNN to the Training set\n",
    "regressor.fit(trainX, trainY, epochs = 250, batch_size = 50)"
   ]
  },
  {
   "cell_type": "markdown",
   "metadata": {},
   "source": [
    "## Predictions and Visualising RNN Model"
   ]
  },
  {
   "cell_type": "code",
   "execution_count": 19,
   "metadata": {},
   "outputs": [],
   "source": [
    "import math \n",
    "from sklearn.metrics import mean_squared_error\n",
    "\n",
    "trainPredict = regressor.predict(trainX)\n",
    "testPredict = regressor.predict(testX)\n"
   ]
  },
  {
   "cell_type": "code",
   "execution_count": 20,
   "metadata": {},
   "outputs": [
    {
     "data": {
      "text/plain": [
       "(75, 1)"
      ]
     },
     "execution_count": 20,
     "metadata": {},
     "output_type": "execute_result"
    }
   ],
   "source": [
    "trainPredict.shape"
   ]
  },
  {
   "cell_type": "code",
   "execution_count": 21,
   "metadata": {},
   "outputs": [
    {
     "data": {
      "text/plain": [
       "array([[0.04225868],\n",
       "       [0.03299519],\n",
       "       [0.04412068],\n",
       "       [0.05023387],\n",
       "       [0.04410781],\n",
       "       [0.05794881],\n",
       "       [0.06242587],\n",
       "       [0.07713503],\n",
       "       [0.09450262],\n",
       "       [0.0978476 ]], dtype=float32)"
      ]
     },
     "execution_count": 21,
     "metadata": {},
     "output_type": "execute_result"
    }
   ],
   "source": [
    "trainPredict[:10]"
   ]
  },
  {
   "cell_type": "code",
   "execution_count": 22,
   "metadata": {},
   "outputs": [],
   "source": [
    "# invert predictions\n",
    "trainPredict = scaler.inverse_transform(trainPredict)\n",
    "trainY = scaler.inverse_transform([trainY])\n",
    "testPredict = scaler.inverse_transform(testPredict)\n",
    "testY = scaler.inverse_transform([testY])"
   ]
  },
  {
   "cell_type": "code",
   "execution_count": 23,
   "metadata": {},
   "outputs": [
    {
     "data": {
      "text/plain": [
       "array([[125.89    ],\n",
       "       [121.09151 ],\n",
       "       [126.854515],\n",
       "       [130.02115 ],\n",
       "       [126.84785 ],\n",
       "       [134.01747 ],\n",
       "       [136.33661 ],\n",
       "       [143.95595 ],\n",
       "       [152.95236 ],\n",
       "       [154.68506 ]], dtype=float32)"
      ]
     },
     "execution_count": 23,
     "metadata": {},
     "output_type": "execute_result"
    }
   ],
   "source": [
    "trainPredict[:10]"
   ]
  },
  {
   "cell_type": "code",
   "execution_count": 24,
   "metadata": {
    "scrolled": true
   },
   "outputs": [
    {
     "name": "stdout",
     "output_type": "stream",
     "text": [
      "Train Score: 14.68 RMSE\n",
      "Test Score: 49.97 RMSE\n"
     ]
    }
   ],
   "source": [
    "# calculate root mean squared error\n",
    "trainScore = math.sqrt(mean_squared_error(trainY[0], trainPredict[:,0]))\n",
    "print('Train Score: %.2f RMSE' % (trainScore))\n",
    "testScore = math.sqrt(mean_squared_error(testY[0], testPredict[:,0]))\n",
    "print('Test Score: %.2f RMSE' % (testScore))\n"
   ]
  },
  {
   "cell_type": "code",
   "execution_count": 25,
   "metadata": {
    "scrolled": true
   },
   "outputs": [
    {
     "data": {
      "text/plain": [
       "[<matplotlib.lines.Line2D at 0x2614d7e20b8>]"
      ]
     },
     "execution_count": 25,
     "metadata": {},
     "output_type": "execute_result"
    },
    {
     "data": {
      "image/png": "[encoded data removed]",
      "text/plain": [
       "<Figure size 432x288 with 1 Axes>"
      ]
     },
     "metadata": {
      "needs_background": "light"
     },
     "output_type": "display_data"
    }
   ],
   "source": [
    "plt.plot(trainPredict)"
   ]
  },
  {
   "cell_type": "code",
   "execution_count": 26,
   "metadata": {},
   "outputs": [
    {
     "data": {
      "text/plain": [
       "[<matplotlib.lines.Line2D at 0x2614d842dd8>]"
      ]
     },
     "execution_count": 26,
     "metadata": {},
     "output_type": "execute_result"
    },
    {
     "data": {
      "image/png": "[encoded data removed]",
      "text/plain": [
       "<Figure size 432x288 with 1 Axes>"
      ]
     },
     "metadata": {
      "needs_background": "light"
     },
     "output_type": "display_data"
    }
   ],
   "source": [
    "plt.plot(testPredict)"
   ]
  },
  {
   "cell_type": "code",
   "execution_count": 27,
   "metadata": {},
   "outputs": [
    {
     "data": {
      "text/plain": [
       "(144, 1)"
      ]
     },
     "execution_count": 27,
     "metadata": {},
     "output_type": "execute_result"
    }
   ],
   "source": [
    "dataset.shape"
   ]
  },
  {
   "cell_type": "code",
   "execution_count": 28,
   "metadata": {},
   "outputs": [
    {
     "data": {
      "image/png": "[encoded data removed]",
      "text/plain": [
       "<Figure size 432x288 with 1 Axes>"
      ]
     },
     "metadata": {
      "needs_background": "light"
     },
     "output_type": "display_data"
    }
   ],
   "source": [
    "# shifting train\n",
    "trainPredictPlot = np.empty_like(dataset)\n",
    "trainPredictPlot[:, :] = np.nan\n",
    "trainPredictPlot[time_stemp:len(trainPredict)+time_stemp, :] = trainPredict\n",
    "# shifting test predictions for plotting\n",
    "testPredictPlot = np.empty_like(dataset)\n",
    "testPredictPlot[:, :] = np.nan\n",
    "testPredictPlot[len(trainPredict)+(time_stemp*2)+1:len(dataset)-1, :] = testPredict\n",
    "# plot baseline and predictions\n",
    "plt.plot(scaler.inverse_transform(dataset_scaled), color='b',label=\"dataset\")\n",
    "plt.plot(trainPredictPlot, color='r',label=\"training\")\n",
    "plt.plot(testPredictPlot, color='g',label=\"test\")\n",
    "plt.legend()\n",
    "plt.show()"
   ]
  },
  {
   "cell_type": "code",
   "execution_count": 29,
   "metadata": {},
   "outputs": [
    {
     "data": {
      "image/png": "[encoded data removed]",
      "text/plain": [
       "<Figure size 432x288 with 1 Axes>"
      ]
     },
     "metadata": {
      "needs_background": "light"
     },
     "output_type": "display_data"
    }
   ],
   "source": [
    "dataset = data.iloc[:,1].values\n",
    "plt.plot(dataset,label=\"dataset\")\n",
    "plt.xlabel(\"time\")\n",
    "plt.ylabel(\"Number of Passenger\")\n",
    "plt.title(\"international airline passenger\")\n",
    "plt.legend()\n",
    "plt.show()"
   ]
  },
  {
   "cell_type": "code",
   "execution_count": null,
   "metadata": {},
   "outputs": [],
   "source": []
  },
  {
   "cell_type": "code",
   "execution_count": null,
   "metadata": {},
   "outputs": [],
   "source": []
  },
  {
   "cell_type": "code",
   "execution_count": null,
   "metadata": {},
   "outputs": [],
   "source": []
  }
 ],
 "metadata": {
  "kernelspec": {
   "display_name": "Python 3",
   "language": "python",
   "name": "python3"
  },
  "language_info": {
   "codemirror_mode": {
    "name": "ipython",
    "version": 3
   },
   "file_extension": ".py",
   "mimetype": "text/x-python",
   "name": "python",
   "nbconvert_exporter": "python",
   "pygments_lexer": "ipython3",
   "version": "3.8.3"
  }
 },
 "nbformat": 4,
 "nbformat_minor": 2
}

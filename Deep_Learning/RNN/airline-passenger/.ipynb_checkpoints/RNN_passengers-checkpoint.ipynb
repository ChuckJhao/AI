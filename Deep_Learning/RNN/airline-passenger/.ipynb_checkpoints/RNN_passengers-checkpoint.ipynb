{
 "cells": [
  {
   "cell_type": "markdown",
   "metadata": {},
   "source": [
    "# RNN international airline passengers"
   ]
  },
  {
   "cell_type": "markdown",
   "metadata": {},
   "source": [
    "## Loading and Visualizing Data"
   ]
  },
  {
   "cell_type": "code",
   "execution_count": 1,
   "metadata": {},
   "outputs": [
    {
     "name": "stderr",
     "output_type": "stream",
     "text": [
      "Using TensorFlow backend.\n"
     ]
    }
   ],
   "source": [
    "import numpy as np # linear algebra\n",
    "import pandas as pd # data processing, CSV file I/O (e.g. pd.read_csv)\n",
    " \n",
    "# Importing the libraries\n",
    "import matplotlib.pyplot as plt\n",
    "#import warnings\n",
    "#warnings.filterwarnings('ignore')\n",
    "    \n",
    "from keras.models import Sequential\n",
    "from keras.layers import Dense, Dropout, Activation\n",
    "\n"
   ]
  },
  {
   "cell_type": "code",
   "execution_count": 2,
   "metadata": {
    "scrolled": true
   },
   "outputs": [
    {
     "data": {
      "text/html": [
       "<div>\n",
       "<style scoped>\n",
       "    .dataframe tbody tr th:only-of-type {\n",
       "        vertical-align: middle;\n",
       "    }\n",
       "\n",
       "    .dataframe tbody tr th {\n",
       "        vertical-align: top;\n",
       "    }\n",
       "\n",
       "    .dataframe thead th {\n",
       "        text-align: right;\n",
       "    }\n",
       "</style>\n",
       "<table border=\"1\" class=\"dataframe\">\n",
       "  <thead>\n",
       "    <tr style=\"text-align: right;\">\n",
       "      <th></th>\n",
       "      <th>Month</th>\n",
       "      <th>International airline passengers: monthly totals in thousands. Jan 49 ? Dec 60</th>\n",
       "    </tr>\n",
       "  </thead>\n",
       "  <tbody>\n",
       "    <tr>\n",
       "      <th>139</th>\n",
       "      <td>1960-08</td>\n",
       "      <td>606</td>\n",
       "    </tr>\n",
       "    <tr>\n",
       "      <th>140</th>\n",
       "      <td>1960-09</td>\n",
       "      <td>508</td>\n",
       "    </tr>\n",
       "    <tr>\n",
       "      <th>141</th>\n",
       "      <td>1960-10</td>\n",
       "      <td>461</td>\n",
       "    </tr>\n",
       "    <tr>\n",
       "      <th>142</th>\n",
       "      <td>1960-11</td>\n",
       "      <td>390</td>\n",
       "    </tr>\n",
       "    <tr>\n",
       "      <th>143</th>\n",
       "      <td>1960-12</td>\n",
       "      <td>432</td>\n",
       "    </tr>\n",
       "  </tbody>\n",
       "</table>\n",
       "</div>"
      ],
      "text/plain": [
       "       Month  \\\n",
       "139  1960-08   \n",
       "140  1960-09   \n",
       "141  1960-10   \n",
       "142  1960-11   \n",
       "143  1960-12   \n",
       "\n",
       "     International airline passengers: monthly totals in thousands. Jan 49 ? Dec 60  \n",
       "139                                                606                               \n",
       "140                                                508                               \n",
       "141                                                461                               \n",
       "142                                                390                               \n",
       "143                                                432                               "
      ]
     },
     "execution_count": 2,
     "metadata": {},
     "output_type": "execute_result"
    }
   ],
   "source": [
    "#skiprows,skipfooter=Number of lines at bottom of file to skip \n",
    "\n",
    "data = pd.read_csv('input/international-airline-passengers.csv',skipfooter=3,engine='python')\n",
    "data.tail() "
   ]
  },
  {
   "cell_type": "code",
   "execution_count": 3,
   "metadata": {},
   "outputs": [
    {
     "data": {
      "text/html": [
       "<div>\n",
       "<style scoped>\n",
       "    .dataframe tbody tr th:only-of-type {\n",
       "        vertical-align: middle;\n",
       "    }\n",
       "\n",
       "    .dataframe tbody tr th {\n",
       "        vertical-align: top;\n",
       "    }\n",
       "\n",
       "    .dataframe thead th {\n",
       "        text-align: right;\n",
       "    }\n",
       "</style>\n",
       "<table border=\"1\" class=\"dataframe\">\n",
       "  <thead>\n",
       "    <tr style=\"text-align: right;\">\n",
       "      <th></th>\n",
       "      <th>International airline passengers: monthly totals in thousands. Jan 49 ? Dec 60</th>\n",
       "    </tr>\n",
       "  </thead>\n",
       "  <tbody>\n",
       "    <tr>\n",
       "      <th>count</th>\n",
       "      <td>144.000000</td>\n",
       "    </tr>\n",
       "    <tr>\n",
       "      <th>mean</th>\n",
       "      <td>280.298611</td>\n",
       "    </tr>\n",
       "    <tr>\n",
       "      <th>std</th>\n",
       "      <td>119.966317</td>\n",
       "    </tr>\n",
       "    <tr>\n",
       "      <th>min</th>\n",
       "      <td>104.000000</td>\n",
       "    </tr>\n",
       "    <tr>\n",
       "      <th>25%</th>\n",
       "      <td>180.000000</td>\n",
       "    </tr>\n",
       "    <tr>\n",
       "      <th>50%</th>\n",
       "      <td>265.500000</td>\n",
       "    </tr>\n",
       "    <tr>\n",
       "      <th>75%</th>\n",
       "      <td>360.500000</td>\n",
       "    </tr>\n",
       "    <tr>\n",
       "      <th>max</th>\n",
       "      <td>622.000000</td>\n",
       "    </tr>\n",
       "  </tbody>\n",
       "</table>\n",
       "</div>"
      ],
      "text/plain": [
       "       International airline passengers: monthly totals in thousands. Jan 49 ? Dec 60\n",
       "count                                         144.000000                             \n",
       "mean                                          280.298611                             \n",
       "std                                           119.966317                             \n",
       "min                                           104.000000                             \n",
       "25%                                           180.000000                             \n",
       "50%                                           265.500000                             \n",
       "75%                                           360.500000                             \n",
       "max                                           622.000000                             "
      ]
     },
     "execution_count": 3,
     "metadata": {},
     "output_type": "execute_result"
    }
   ],
   "source": [
    "data.describe()"
   ]
  },
  {
   "cell_type": "code",
   "execution_count": 4,
   "metadata": {
    "scrolled": true
   },
   "outputs": [
    {
     "data": {
      "image/png": "[encoded data removed]",
      "text/plain": [
       "<Figure size 432x288 with 1 Axes>"
      ]
     },
     "metadata": {
      "needs_background": "light"
     },
     "output_type": "display_data"
    }
   ],
   "source": [
    "dataset = data.iloc[:,1].values\n",
    "plt.plot(dataset)\n",
    "plt.xlabel(\"time\")\n",
    "plt.ylabel(\"Number of Passenger\")\n",
    "plt.title(\"international airline passenger\")\n",
    "plt.show()"
   ]
  },
  {
   "cell_type": "markdown",
   "metadata": {},
   "source": [
    " ##  Preprocessing Data\n",
    "    reshape\n",
    "    change type\n",
    "    scaling\n",
    "    train test split\n",
    "    Create dataset"
   ]
  },
  {
   "cell_type": "code",
   "execution_count": 5,
   "metadata": {},
   "outputs": [
    {
     "data": {
      "text/plain": [
       "(144, 1)"
      ]
     },
     "execution_count": 5,
     "metadata": {},
     "output_type": "execute_result"
    }
   ],
   "source": [
    "dataset = dataset.reshape(-1,1)\n",
    "dataset = dataset.astype(\"float32\")\n",
    "dataset.shape"
   ]
  },
  {
   "cell_type": "code",
   "execution_count": 6,
   "metadata": {},
   "outputs": [
    {
     "data": {
      "image/png": "[encoded data removed]",
      "text/plain": [
       "<Figure size 432x288 with 1 Axes>"
      ]
     },
     "metadata": {
      "needs_background": "light"
     },
     "output_type": "display_data"
    }
   ],
   "source": [
    "# Feature Scaling\n",
    "from sklearn.preprocessing import MinMaxScaler\n",
    "scaler = MinMaxScaler(feature_range = (0, 1))\n",
    "dataset_scaled = scaler.fit_transform(dataset)\n",
    "plt.plot(dataset_scaled)\n",
    "plt.show()"
   ]
  },
  {
   "cell_type": "code",
   "execution_count": 7,
   "metadata": {},
   "outputs": [
    {
     "name": "stdout",
     "output_type": "stream",
     "text": [
      "train size: 86, test size: 58 \n"
     ]
    }
   ],
   "source": [
    "train_size = int(len(dataset) * 0.60)\n",
    "test_size = len(dataset) - train_size\n",
    "train = dataset_scaled[0:train_size,:]\n",
    "test = dataset_scaled[train_size:,:]\n",
    "print(\"train size: {}, test size: {} \".format(len(train), len(test)))\n"
   ]
  },
  {
   "cell_type": "code",
   "execution_count": 8,
   "metadata": {},
   "outputs": [],
   "source": [
    "\n",
    "time_stemp = 10\n",
    "dataX = []\n",
    "dataY = []\n",
    "for i in range(len(train)-time_stemp-1):\n",
    "    a = train[i:(i+time_stemp), 0]\n",
    "    dataX.append(a)\n",
    "    dataY.append(train[i + time_stemp, 0])\n",
    "trainX = np.array(dataX)\n",
    "trainY = np.array(dataY)  "
   ]
  },
  {
   "cell_type": "code",
   "execution_count": 9,
   "metadata": {},
   "outputs": [
    {
     "data": {
      "text/plain": [
       "(75, 10)"
      ]
     },
     "execution_count": 9,
     "metadata": {},
     "output_type": "execute_result"
    }
   ],
   "source": [
    "trainX.shape"
   ]
  },
  {
   "cell_type": "code",
   "execution_count": 10,
   "metadata": {},
   "outputs": [
    {
     "name": "stdout",
     "output_type": "stream",
     "text": [
      "shape of trainX:  (75, 10, 1)\n",
      "shape of testX:  (47, 10, 1)\n"
     ]
    }
   ],
   "source": [
    "dataX = []\n",
    "dataY = []\n",
    "for i in range(len(test)-time_stemp-1):\n",
    "    a = test[i:(i+time_stemp), 0]\n",
    "    dataX.append(a)\n",
    "    dataY.append(test[i + time_stemp, 0])\n",
    "testX = np.array(dataX)\n",
    "testY = np.array(dataY) \n",
    "trainX = np.reshape(trainX, (trainX.shape[0], trainX.shape[1], 1))\n",
    "testX = np.reshape(testX, (testX.shape[0], testX.shape[1], 1))\n",
    "print('shape of trainX: ', trainX.shape)\n",
    "print('shape of testX: ', testX.shape)"
   ]
  },
  {
   "cell_type": "markdown",
   "metadata": {},
   "source": [
    "## Create SimpleRNN  Model"
   ]
  },
  {
   "cell_type": "code",
   "execution_count": 11,
   "metadata": {},
   "outputs": [
    {
     "name": "stdout",
     "output_type": "stream",
     "text": [
      "WARNING:tensorflow:From C:\\Users\\Joseph\\Anaconda3\\envs\\tf_gpu\\lib\\site-packages\\tensorflow\\python\\framework\\op_def_library.py:263: colocate_with (from tensorflow.python.framework.ops) is deprecated and will be removed in a future version.\n",
      "Instructions for updating:\n",
      "Colocations handled automatically by placer.\n",
      "WARNING:tensorflow:From C:\\Users\\Joseph\\Anaconda3\\envs\\tf_gpu\\lib\\site-packages\\keras\\backend\\tensorflow_backend.py:3445: calling dropout (from tensorflow.python.ops.nn_ops) with keep_prob is deprecated and will be removed in a future version.\n",
      "Instructions for updating:\n",
      "Please use `rate` instead of `keep_prob`. Rate should be set to `rate = 1 - keep_prob`.\n"
     ]
    }
   ],
   "source": [
    "# Importing the Keras libraries and packages\n",
    "from keras.models import Sequential\n",
    "from keras.layers import Dense\n",
    "from keras.layers import SimpleRNN\n",
    "from keras.layers import Dropout\n",
    "\n",
    "# Initialising the RNN\n",
    "regressor = Sequential()\n",
    "\n",
    "# Adding the first RNN layer and some Dropout regularisation\n",
    "regressor.add(SimpleRNN(units = 100,activation='relu', return_sequences = True, input_shape = (trainX.shape[1], 1)))\n",
    "regressor.add(Dropout(0.2))\n",
    "\n",
    "# Adding a second RNN layer and some Dropout regularisation\n",
    "regressor.add(SimpleRNN(units = 80,activation='relu', return_sequences = True))\n",
    "regressor.add(Dropout(0.2))\n",
    "\n",
    "# Adding a third RNN layer and some Dropout regularisation\n",
    "regressor.add(SimpleRNN(units = 50,activation='relu', return_sequences = True))\n",
    "regressor.add(Dropout(0.2))\n",
    "\n",
    "# Adding a fourth RNN layer and some Dropout regularisation\n",
    "regressor.add(SimpleRNN(units = 30,activation='relu', return_sequences = True))\n",
    "regressor.add(Dropout(0.2))\n",
    "\n",
    "# Adding a fifth RNN layer and some Dropout regularisation\n",
    "regressor.add(SimpleRNN(units = 20))\n",
    "regressor.add(Dropout(0.2))\n",
    "\n",
    "# Adding the output layer\n",
    "regressor.add(Dense(units = 1))\n",
    "\n",
    "# Compiling the RNN\n",
    "regressor.compile(optimizer = 'adam', loss = 'mean_squared_error')\n"
   ]
  },
  {
   "cell_type": "code",
   "execution_count": 12,
   "metadata": {},
   "outputs": [
    {
     "name": "stdout",
     "output_type": "stream",
     "text": [
      "_________________________________________________________________\n",
      "Layer (type)                 Output Shape              Param #   \n",
      "=================================================================\n",
      "simple_rnn_1 (SimpleRNN)     (None, 10, 100)           10200     \n",
      "_________________________________________________________________\n",
      "dropout_1 (Dropout)          (None, 10, 100)           0         \n",
      "_________________________________________________________________\n",
      "simple_rnn_2 (SimpleRNN)     (None, 10, 80)            14480     \n",
      "_________________________________________________________________\n",
      "dropout_2 (Dropout)          (None, 10, 80)            0         \n",
      "_________________________________________________________________\n",
      "simple_rnn_3 (SimpleRNN)     (None, 10, 50)            6550      \n",
      "_________________________________________________________________\n",
      "dropout_3 (Dropout)          (None, 10, 50)            0         \n",
      "_________________________________________________________________\n",
      "simple_rnn_4 (SimpleRNN)     (None, 10, 30)            2430      \n",
      "_________________________________________________________________\n",
      "dropout_4 (Dropout)          (None, 10, 30)            0         \n",
      "_________________________________________________________________\n",
      "simple_rnn_5 (SimpleRNN)     (None, 20)                1020      \n",
      "_________________________________________________________________\n",
      "dropout_5 (Dropout)          (None, 20)                0         \n",
      "_________________________________________________________________\n",
      "dense_1 (Dense)              (None, 1)                 21        \n",
      "=================================================================\n",
      "Total params: 34,701\n",
      "Trainable params: 34,701\n",
      "Non-trainable params: 0\n",
      "_________________________________________________________________\n"
     ]
    }
   ],
   "source": [
    "regressor.summary()"
   ]
  },
  {
   "cell_type": "code",
   "execution_count": 13,
   "metadata": {
    "scrolled": true
   },
   "outputs": [
    {
     "name": "stdout",
     "output_type": "stream",
     "text": [
      "WARNING:tensorflow:From C:\\Users\\Joseph\\Anaconda3\\envs\\tf_gpu\\lib\\site-packages\\tensorflow\\python\\ops\\math_ops.py:3066: to_int32 (from tensorflow.python.ops.math_ops) is deprecated and will be removed in a future version.\n",
      "Instructions for updating:\n",
      "Use tf.cast instead.\n",
      "Epoch 1/250\n",
      "75/75 [==============================] - 2s 25ms/step - loss: 0.0832\n",
      "Epoch 2/250\n",
      "75/75 [==============================] - 0s 796us/step - loss: 0.0181\n",
      "Epoch 3/250\n",
      "75/75 [==============================] - 0s 791us/step - loss: 0.0156\n",
      "Epoch 4/250\n",
      "75/75 [==============================] - 0s 829us/step - loss: 0.0115\n",
      "Epoch 5/250\n",
      "75/75 [==============================] - 0s 799us/step - loss: 0.0093\n",
      "Epoch 6/250\n",
      "75/75 [==============================] - 0s 854us/step - loss: 0.0130\n",
      "Epoch 7/250\n",
      "75/75 [==============================] - 0s 896us/step - loss: 0.0116\n",
      "Epoch 8/250\n",
      "75/75 [==============================] - 0s 853us/step - loss: 0.0096\n",
      "Epoch 9/250\n",
      "75/75 [==============================] - 0s 802us/step - loss: 0.0090\n",
      "Epoch 10/250\n",
      "75/75 [==============================] - 0s 778us/step - loss: 0.0090\n",
      "Epoch 11/250\n",
      "75/75 [==============================] - 0s 785us/step - loss: 0.0075\n",
      "Epoch 12/250\n",
      "75/75 [==============================] - 0s 829us/step - loss: 0.0061\n",
      "Epoch 13/250\n",
      "75/75 [==============================] - 0s 776us/step - loss: 0.0092\n",
      "Epoch 14/250\n",
      "75/75 [==============================] - 0s 809us/step - loss: 0.0084\n",
      "Epoch 15/250\n",
      "75/75 [==============================] - 0s 836us/step - loss: 0.0088\n",
      "Epoch 16/250\n",
      "75/75 [==============================] - 0s 789us/step - loss: 0.0077\n",
      "Epoch 17/250\n",
      "75/75 [==============================] - 0s 842us/step - loss: 0.0081\n",
      "Epoch 18/250\n",
      "75/75 [==============================] - 0s 822us/step - loss: 0.0067\n",
      "Epoch 19/250\n",
      "75/75 [==============================] - 0s 797us/step - loss: 0.0081\n",
      "Epoch 20/250\n",
      "75/75 [==============================] - 0s 816us/step - loss: 0.0074\n",
      "Epoch 21/250\n",
      "75/75 [==============================] - 0s 843us/step - loss: 0.0072\n",
      "Epoch 22/250\n",
      "75/75 [==============================] - 0s 842us/step - loss: 0.0085\n",
      "Epoch 23/250\n",
      "75/75 [==============================] - 0s 900us/step - loss: 0.0071\n",
      "Epoch 24/250\n",
      "75/75 [==============================] - 0s 945us/step - loss: 0.0085\n",
      "Epoch 25/250\n",
      "75/75 [==============================] - 0s 865us/step - loss: 0.0076\n",
      "Epoch 26/250\n",
      "75/75 [==============================] - 0s 842us/step - loss: 0.0064\n",
      "Epoch 27/250\n",
      "75/75 [==============================] - 0s 813us/step - loss: 0.0067\n",
      "Epoch 28/250\n",
      "75/75 [==============================] - 0s 816us/step - loss: 0.0063\n",
      "Epoch 29/250\n",
      "75/75 [==============================] - 0s 799us/step - loss: 0.0062\n",
      "Epoch 30/250\n",
      "75/75 [==============================] - 0s 772us/step - loss: 0.0059\n",
      "Epoch 31/250\n",
      "75/75 [==============================] - 0s 829us/step - loss: 0.0068\n",
      "Epoch 32/250\n",
      "75/75 [==============================] - 0s 789us/step - loss: 0.0071\n",
      "Epoch 33/250\n",
      "75/75 [==============================] - 0s 818us/step - loss: 0.0050\n",
      "Epoch 34/250\n",
      "75/75 [==============================] - 0s 825us/step - loss: 0.0065\n",
      "Epoch 35/250\n",
      "75/75 [==============================] - 0s 810us/step - loss: 0.0056\n",
      "Epoch 36/250\n",
      "75/75 [==============================] - 0s 815us/step - loss: 0.0068\n",
      "Epoch 37/250\n",
      "75/75 [==============================] - 0s 783us/step - loss: 0.0065\n",
      "Epoch 38/250\n",
      "75/75 [==============================] - 0s 802us/step - loss: 0.0049\n",
      "Epoch 39/250\n",
      "75/75 [==============================] - 0s 802us/step - loss: 0.0059\n",
      "Epoch 40/250\n",
      "75/75 [==============================] - 0s 811us/step - loss: 0.0067\n",
      "Epoch 41/250\n",
      "75/75 [==============================] - 0s 816us/step - loss: 0.0055\n",
      "Epoch 42/250\n",
      "75/75 [==============================] - 0s 810us/step - loss: 0.0061\n",
      "Epoch 43/250\n",
      "75/75 [==============================] - 0s 824us/step - loss: 0.0075\n",
      "Epoch 44/250\n",
      "75/75 [==============================] - 0s 829us/step - loss: 0.0059\n",
      "Epoch 45/250\n",
      "75/75 [==============================] - 0s 812us/step - loss: 0.0054\n",
      "Epoch 46/250\n",
      "75/75 [==============================] - 0s 835us/step - loss: 0.0072\n",
      "Epoch 47/250\n",
      "75/75 [==============================] - 0s 829us/step - loss: 0.0048\n",
      "Epoch 48/250\n",
      "75/75 [==============================] - 0s 813us/step - loss: 0.0073\n",
      "Epoch 49/250\n",
      "75/75 [==============================] - 0s 849us/step - loss: 0.0053\n",
      "Epoch 50/250\n",
      "75/75 [==============================] - 0s 811us/step - loss: 0.0056\n",
      "Epoch 51/250\n",
      "75/75 [==============================] - 0s 810us/step - loss: 0.0054\n",
      "Epoch 52/250\n",
      "75/75 [==============================] - 0s 815us/step - loss: 0.0078\n",
      "Epoch 53/250\n",
      "75/75 [==============================] - 0s 814us/step - loss: 0.0052\n",
      "Epoch 54/250\n",
      "75/75 [==============================] - 0s 822us/step - loss: 0.0050\n",
      "Epoch 55/250\n",
      "75/75 [==============================] - 0s 783us/step - loss: 0.0064\n",
      "Epoch 56/250\n",
      "75/75 [==============================] - 0s 816us/step - loss: 0.0055\n",
      "Epoch 57/250\n",
      "75/75 [==============================] - 0s 909us/step - loss: 0.0073\n",
      "Epoch 58/250\n",
      "75/75 [==============================] - 0s 823us/step - loss: 0.0046\n",
      "Epoch 59/250\n",
      "75/75 [==============================] - 0s 798us/step - loss: 0.0062\n",
      "Epoch 60/250\n",
      "75/75 [==============================] - 0s 815us/step - loss: 0.0046\n",
      "Epoch 61/250\n",
      "75/75 [==============================] - 0s 866us/step - loss: 0.0054\n",
      "Epoch 62/250\n",
      "75/75 [==============================] - 0s 809us/step - loss: 0.0048\n",
      "Epoch 63/250\n",
      "75/75 [==============================] - 0s 795us/step - loss: 0.0066\n",
      "Epoch 64/250\n",
      "75/75 [==============================] - 0s 822us/step - loss: 0.0074\n",
      "Epoch 65/250\n",
      "75/75 [==============================] - 0s 889us/step - loss: 0.0051\n",
      "Epoch 66/250\n",
      "75/75 [==============================] - 0s 811us/step - loss: 0.0072\n",
      "Epoch 67/250\n",
      "75/75 [==============================] - 0s 837us/step - loss: 0.0064\n",
      "Epoch 68/250\n",
      "75/75 [==============================] - 0s 802us/step - loss: 0.0038\n",
      "Epoch 69/250\n",
      "75/75 [==============================] - 0s 796us/step - loss: 0.0046\n",
      "Epoch 70/250\n",
      "75/75 [==============================] - 0s 815us/step - loss: 0.0058\n",
      "Epoch 71/250\n",
      "75/75 [==============================] - 0s 835us/step - loss: 0.0046\n",
      "Epoch 72/250\n",
      "75/75 [==============================] - 0s 797us/step - loss: 0.0047\n",
      "Epoch 73/250\n",
      "75/75 [==============================] - 0s 829us/step - loss: 0.0058\n",
      "Epoch 74/250\n",
      "75/75 [==============================] - 0s 842us/step - loss: 0.0060\n",
      "Epoch 75/250\n",
      "75/75 [==============================] - 0s 809us/step - loss: 0.0048\n",
      "Epoch 76/250\n",
      "75/75 [==============================] - 0s 802us/step - loss: 0.0040\n",
      "Epoch 77/250\n",
      "75/75 [==============================] - 0s 803us/step - loss: 0.0047\n",
      "Epoch 78/250\n",
      "75/75 [==============================] - 0s 776us/step - loss: 0.0041\n",
      "Epoch 79/250\n",
      "75/75 [==============================] - 0s 797us/step - loss: 0.0042\n",
      "Epoch 80/250\n",
      "75/75 [==============================] - 0s 816us/step - loss: 0.0046\n",
      "Epoch 81/250\n",
      "75/75 [==============================] - 0s 802us/step - loss: 0.0045\n",
      "Epoch 82/250\n",
      "75/75 [==============================] - 0s 816us/step - loss: 0.0048\n",
      "Epoch 83/250\n",
      "75/75 [==============================] - 0s 809us/step - loss: 0.0050\n",
      "Epoch 84/250\n",
      "75/75 [==============================] - 0s 830us/step - loss: 0.0062\n",
      "Epoch 85/250\n",
      "75/75 [==============================] - 0s 812us/step - loss: 0.0059\n",
      "Epoch 86/250\n",
      "75/75 [==============================] - 0s 762us/step - loss: 0.0047\n",
      "Epoch 87/250\n",
      "75/75 [==============================] - 0s 840us/step - loss: 0.0045\n",
      "Epoch 88/250\n",
      "75/75 [==============================] - 0s 828us/step - loss: 0.0048\n",
      "Epoch 89/250\n",
      "75/75 [==============================] - 0s 829us/step - loss: 0.0046\n",
      "Epoch 90/250\n",
      "75/75 [==============================] - 0s 801us/step - loss: 0.0046\n",
      "Epoch 91/250\n",
      "75/75 [==============================] - 0s 856us/step - loss: 0.0047\n",
      "Epoch 92/250\n",
      "75/75 [==============================] - 0s 790us/step - loss: 0.0050\n",
      "Epoch 93/250\n",
      "75/75 [==============================] - 0s 785us/step - loss: 0.0046\n",
      "Epoch 94/250\n",
      "75/75 [==============================] - 0s 829us/step - loss: 0.0046\n",
      "Epoch 95/250\n",
      "75/75 [==============================] - 0s 826us/step - loss: 0.0042\n",
      "Epoch 96/250\n",
      "75/75 [==============================] - 0s 796us/step - loss: 0.0056\n",
      "Epoch 97/250\n",
      "75/75 [==============================] - 0s 791us/step - loss: 0.0030\n",
      "Epoch 98/250\n",
      "75/75 [==============================] - 0s 824us/step - loss: 0.0043\n",
      "Epoch 99/250\n",
      "75/75 [==============================] - 0s 802us/step - loss: 0.0034\n",
      "Epoch 100/250\n",
      "75/75 [==============================] - 0s 802us/step - loss: 0.0045\n",
      "Epoch 101/250\n",
      "75/75 [==============================] - 0s 802us/step - loss: 0.0048\n",
      "Epoch 102/250\n",
      "75/75 [==============================] - 0s 789us/step - loss: 0.0029\n",
      "Epoch 103/250\n",
      "75/75 [==============================] - 0s 829us/step - loss: 0.0041\n",
      "Epoch 104/250\n",
      "75/75 [==============================] - 0s 809us/step - loss: 0.0042\n",
      "Epoch 105/250\n",
      "75/75 [==============================] - 0s 797us/step - loss: 0.0034\n",
      "Epoch 106/250\n",
      "75/75 [==============================] - 0s 786us/step - loss: 0.0031\n",
      "Epoch 107/250\n",
      "75/75 [==============================] - 0s 842us/step - loss: 0.0036\n",
      "Epoch 108/250\n",
      "75/75 [==============================] - 0s 802us/step - loss: 0.0026\n",
      "Epoch 109/250\n",
      "75/75 [==============================] - 0s 796us/step - loss: 0.0039\n",
      "Epoch 110/250\n",
      "75/75 [==============================] - 0s 789us/step - loss: 0.0029\n",
      "Epoch 111/250\n",
      "75/75 [==============================] - 0s 798us/step - loss: 0.0038\n",
      "Epoch 112/250\n",
      "75/75 [==============================] - 0s 816us/step - loss: 0.0036\n",
      "Epoch 113/250\n",
      "75/75 [==============================] - 0s 828us/step - loss: 0.0043\n",
      "Epoch 114/250\n",
      "75/75 [==============================] - 0s 803us/step - loss: 0.0038\n",
      "Epoch 115/250\n",
      "75/75 [==============================] - 0s 789us/step - loss: 0.0034\n",
      "Epoch 116/250\n",
      "75/75 [==============================] - 0s 798us/step - loss: 0.0034\n",
      "Epoch 117/250\n",
      "75/75 [==============================] - 0s 836us/step - loss: 0.0034\n",
      "Epoch 118/250\n",
      "75/75 [==============================] - 0s 803us/step - loss: 0.0026\n",
      "Epoch 119/250\n",
      "75/75 [==============================] - 0s 826us/step - loss: 0.0043\n",
      "Epoch 120/250\n",
      "75/75 [==============================] - 0s 816us/step - loss: 0.0029\n",
      "Epoch 121/250\n",
      "75/75 [==============================] - 0s 811us/step - loss: 0.0030\n",
      "Epoch 122/250\n",
      "75/75 [==============================] - 0s 836us/step - loss: 0.0039\n",
      "Epoch 123/250\n",
      "75/75 [==============================] - 0s 849us/step - loss: 0.0042\n",
      "Epoch 124/250\n",
      "75/75 [==============================] - 0s 837us/step - loss: 0.0043\n",
      "Epoch 125/250\n",
      "75/75 [==============================] - 0s 802us/step - loss: 0.0035\n",
      "Epoch 126/250\n",
      "75/75 [==============================] - 0s 833us/step - loss: 0.0032\n",
      "Epoch 127/250\n",
      "75/75 [==============================] - 0s 798us/step - loss: 0.0035\n",
      "Epoch 128/250\n",
      "75/75 [==============================] - 0s 829us/step - loss: 0.0037\n",
      "Epoch 129/250\n",
      "75/75 [==============================] - 0s 841us/step - loss: 0.0042\n",
      "Epoch 130/250\n",
      "75/75 [==============================] - 0s 789us/step - loss: 0.0034\n",
      "Epoch 131/250\n",
      "75/75 [==============================] - 0s 794us/step - loss: 0.0040\n",
      "Epoch 132/250\n",
      "75/75 [==============================] - 0s 796us/step - loss: 0.0029\n",
      "Epoch 133/250\n",
      "75/75 [==============================] - 0s 802us/step - loss: 0.0032\n",
      "Epoch 134/250\n",
      "75/75 [==============================] - 0s 829us/step - loss: 0.0032\n",
      "Epoch 135/250\n",
      "75/75 [==============================] - 0s 816us/step - loss: 0.0035\n",
      "Epoch 136/250\n",
      "75/75 [==============================] - 0s 829us/step - loss: 0.0033\n",
      "Epoch 137/250\n",
      "75/75 [==============================] - 0s 863us/step - loss: 0.0035\n",
      "Epoch 138/250\n",
      "75/75 [==============================] - 0s 829us/step - loss: 0.0033\n",
      "Epoch 139/250\n",
      "75/75 [==============================] - 0s 789us/step - loss: 0.0037\n",
      "Epoch 140/250\n",
      "75/75 [==============================] - 0s 859us/step - loss: 0.0035\n",
      "Epoch 141/250\n",
      "75/75 [==============================] - 0s 829us/step - loss: 0.0038\n",
      "Epoch 142/250\n",
      "75/75 [==============================] - 0s 827us/step - loss: 0.0035\n",
      "Epoch 143/250\n",
      "75/75 [==============================] - 0s 815us/step - loss: 0.0033\n",
      "Epoch 144/250\n",
      "75/75 [==============================] - 0s 816us/step - loss: 0.0041\n",
      "Epoch 145/250\n",
      "75/75 [==============================] - 0s 839us/step - loss: 0.0034\n",
      "Epoch 146/250\n",
      "75/75 [==============================] - 0s 909us/step - loss: 0.0030\n",
      "Epoch 147/250\n",
      "75/75 [==============================] - 0s 784us/step - loss: 0.0035\n",
      "Epoch 148/250\n",
      "75/75 [==============================] - 0s 796us/step - loss: 0.0035\n",
      "Epoch 149/250\n",
      "75/75 [==============================] - 0s 842us/step - loss: 0.0053\n",
      "Epoch 150/250\n",
      "75/75 [==============================] - 0s 837us/step - loss: 0.0035\n",
      "Epoch 151/250\n",
      "75/75 [==============================] - 0s 854us/step - loss: 0.0035\n",
      "Epoch 152/250\n",
      "75/75 [==============================] - 0s 816us/step - loss: 0.0040\n",
      "Epoch 153/250\n",
      "75/75 [==============================] - 0s 796us/step - loss: 0.0026\n",
      "Epoch 154/250\n",
      "75/75 [==============================] - 0s 802us/step - loss: 0.0036\n",
      "Epoch 155/250\n",
      "75/75 [==============================] - 0s 797us/step - loss: 0.0033\n",
      "Epoch 156/250\n",
      "75/75 [==============================] - 0s 823us/step - loss: 0.0028\n",
      "Epoch 157/250\n",
      "75/75 [==============================] - 0s 889us/step - loss: 0.0031\n",
      "Epoch 158/250\n",
      "75/75 [==============================] - 0s 834us/step - loss: 0.0024\n",
      "Epoch 159/250\n",
      "75/75 [==============================] - 0s 802us/step - loss: 0.0030\n",
      "Epoch 160/250\n",
      "75/75 [==============================] - 0s 842us/step - loss: 0.0022\n",
      "Epoch 161/250\n",
      "75/75 [==============================] - 0s 829us/step - loss: 0.0024\n",
      "Epoch 162/250\n",
      "75/75 [==============================] - 0s 829us/step - loss: 0.0026\n",
      "Epoch 163/250\n",
      "75/75 [==============================] - 0s 819us/step - loss: 0.0030\n",
      "Epoch 164/250\n",
      "75/75 [==============================] - 0s 825us/step - loss: 0.0033\n",
      "Epoch 165/250\n",
      "75/75 [==============================] - 0s 775us/step - loss: 0.0029\n",
      "Epoch 166/250\n",
      "75/75 [==============================] - 0s 837us/step - loss: 0.0030\n",
      "Epoch 167/250\n",
      "75/75 [==============================] - 0s 843us/step - loss: 0.0024\n",
      "Epoch 168/250\n",
      "75/75 [==============================] - 0s 869us/step - loss: 0.0038\n",
      "Epoch 169/250\n",
      "75/75 [==============================] - 0s 842us/step - loss: 0.0035\n",
      "Epoch 170/250\n",
      "75/75 [==============================] - 0s 829us/step - loss: 0.0033\n",
      "Epoch 171/250\n",
      "75/75 [==============================] - 0s 789us/step - loss: 0.0029\n",
      "Epoch 172/250\n",
      "75/75 [==============================] - 0s 769us/step - loss: 0.0032\n",
      "Epoch 173/250\n",
      "75/75 [==============================] - 0s 842us/step - loss: 0.0027\n",
      "Epoch 174/250\n",
      "75/75 [==============================] - 0s 767us/step - loss: 0.0031\n",
      "Epoch 175/250\n",
      "75/75 [==============================] - 0s 829us/step - loss: 0.0026\n",
      "Epoch 176/250\n",
      "75/75 [==============================] - 0s 829us/step - loss: 0.0024\n",
      "Epoch 177/250\n",
      "75/75 [==============================] - 0s 841us/step - loss: 0.0024\n",
      "Epoch 178/250\n",
      "75/75 [==============================] - ETA: 0s - loss: 0.002 - 0s 802us/step - loss: 0.0030\n",
      "Epoch 179/250\n",
      "75/75 [==============================] - 0s 838us/step - loss: 0.0035\n",
      "Epoch 180/250\n",
      "75/75 [==============================] - 0s 823us/step - loss: 0.0028\n",
      "Epoch 181/250\n",
      "75/75 [==============================] - 0s 829us/step - loss: 0.0031\n",
      "Epoch 182/250\n",
      "75/75 [==============================] - 0s 810us/step - loss: 0.0022\n",
      "Epoch 183/250\n",
      "75/75 [==============================] - 0s 789us/step - loss: 0.0030\n",
      "Epoch 184/250\n",
      "75/75 [==============================] - 0s 816us/step - loss: 0.0040\n",
      "Epoch 185/250\n",
      "75/75 [==============================] - 0s 801us/step - loss: 0.0025\n",
      "Epoch 186/250\n",
      "75/75 [==============================] - 0s 836us/step - loss: 0.0027\n",
      "Epoch 187/250\n",
      "75/75 [==============================] - 0s 830us/step - loss: 0.0023\n",
      "Epoch 188/250\n",
      "75/75 [==============================] - 0s 842us/step - loss: 0.0034\n",
      "Epoch 189/250\n",
      "75/75 [==============================] - 0s 816us/step - loss: 0.0031\n",
      "Epoch 190/250\n",
      "75/75 [==============================] - 0s 932us/step - loss: 0.0021\n",
      "Epoch 191/250\n",
      "75/75 [==============================] - 0s 836us/step - loss: 0.0031\n",
      "Epoch 192/250\n",
      "75/75 [==============================] - 0s 842us/step - loss: 0.0026\n",
      "Epoch 193/250\n"
     ]
    },
    {
     "name": "stdout",
     "output_type": "stream",
     "text": [
      "75/75 [==============================] - 0s 844us/step - loss: 0.0026\n",
      "Epoch 194/250\n",
      "75/75 [==============================] - 0s 838us/step - loss: 0.0029\n",
      "Epoch 195/250\n",
      "75/75 [==============================] - 0s 829us/step - loss: 0.0035\n",
      "Epoch 196/250\n",
      "75/75 [==============================] - 0s 803us/step - loss: 0.0025\n",
      "Epoch 197/250\n",
      "75/75 [==============================] - 0s 849us/step - loss: 0.0026\n",
      "Epoch 198/250\n",
      "75/75 [==============================] - 0s 816us/step - loss: 0.0026\n",
      "Epoch 199/250\n",
      "75/75 [==============================] - 0s 861us/step - loss: 0.0022\n",
      "Epoch 200/250\n",
      "75/75 [==============================] - 0s 863us/step - loss: 0.0023\n",
      "Epoch 201/250\n",
      "75/75 [==============================] - 0s 871us/step - loss: 0.0023\n",
      "Epoch 202/250\n",
      "75/75 [==============================] - 0s 825us/step - loss: 0.0024\n",
      "Epoch 203/250\n",
      "75/75 [==============================] - 0s 829us/step - loss: 0.0028\n",
      "Epoch 204/250\n",
      "75/75 [==============================] - 0s 796us/step - loss: 0.0019\n",
      "Epoch 205/250\n",
      "75/75 [==============================] - 0s 795us/step - loss: 0.0023\n",
      "Epoch 206/250\n",
      "75/75 [==============================] - 0s 868us/step - loss: 0.0028\n",
      "Epoch 207/250\n",
      "75/75 [==============================] - 0s 785us/step - loss: 0.0033\n",
      "Epoch 208/250\n",
      "75/75 [==============================] - 0s 822us/step - loss: 0.0029\n",
      "Epoch 209/250\n",
      "75/75 [==============================] - 0s 832us/step - loss: 0.0023\n",
      "Epoch 210/250\n",
      "75/75 [==============================] - 0s 810us/step - loss: 0.0028\n",
      "Epoch 211/250\n",
      "75/75 [==============================] - 0s 816us/step - loss: 0.0036\n",
      "Epoch 212/250\n",
      "75/75 [==============================] - 0s 823us/step - loss: 0.0023\n",
      "Epoch 213/250\n",
      "75/75 [==============================] - 0s 815us/step - loss: 0.0030\n",
      "Epoch 214/250\n",
      "75/75 [==============================] - 0s 789us/step - loss: 0.0025\n",
      "Epoch 215/250\n",
      "75/75 [==============================] - 0s 843us/step - loss: 0.0031\n",
      "Epoch 216/250\n",
      "75/75 [==============================] - 0s 875us/step - loss: 0.0021\n",
      "Epoch 217/250\n",
      "75/75 [==============================] - 0s 864us/step - loss: 0.0026\n",
      "Epoch 218/250\n",
      "75/75 [==============================] - 0s 889us/step - loss: 0.0030\n",
      "Epoch 219/250\n",
      "75/75 [==============================] - 0s 916us/step - loss: 0.0023\n",
      "Epoch 220/250\n",
      "75/75 [==============================] - 0s 909us/step - loss: 0.0024\n",
      "Epoch 221/250\n",
      "75/75 [==============================] - 0s 848us/step - loss: 0.0023\n",
      "Epoch 222/250\n",
      "75/75 [==============================] - 0s 896us/step - loss: 0.0031\n",
      "Epoch 223/250\n",
      "75/75 [==============================] - 0s 838us/step - loss: 0.0021\n",
      "Epoch 224/250\n",
      "75/75 [==============================] - 0s 812us/step - loss: 0.0017\n",
      "Epoch 225/250\n",
      "75/75 [==============================] - 0s 822us/step - loss: 0.0028\n",
      "Epoch 226/250\n",
      "75/75 [==============================] - 0s 783us/step - loss: 0.0018\n",
      "Epoch 227/250\n",
      "75/75 [==============================] - 0s 816us/step - loss: 0.0037\n",
      "Epoch 228/250\n",
      "75/75 [==============================] - 0s 936us/step - loss: 0.0016\n",
      "Epoch 229/250\n",
      "75/75 [==============================] - 0s 890us/step - loss: 0.0017\n",
      "Epoch 230/250\n",
      "75/75 [==============================] - 0s 837us/step - loss: 0.0014\n",
      "Epoch 231/250\n",
      "75/75 [==============================] - 0s 882us/step - loss: 0.0022\n",
      "Epoch 232/250\n",
      "75/75 [==============================] - 0s 837us/step - loss: 0.0026\n",
      "Epoch 233/250\n",
      "75/75 [==============================] - 0s 836us/step - loss: 0.0032\n",
      "Epoch 234/250\n",
      "75/75 [==============================] - 0s 802us/step - loss: 0.0025\n",
      "Epoch 235/250\n",
      "75/75 [==============================] - 0s 817us/step - loss: 0.0023\n",
      "Epoch 236/250\n",
      "75/75 [==============================] - 0s 809us/step - loss: 0.0034\n",
      "Epoch 237/250\n",
      "75/75 [==============================] - 0s 844us/step - loss: 0.0018\n",
      "Epoch 238/250\n",
      "75/75 [==============================] - 0s 864us/step - loss: 0.0031\n",
      "Epoch 239/250\n",
      "75/75 [==============================] - 0s 862us/step - loss: 0.0023\n",
      "Epoch 240/250\n",
      "75/75 [==============================] - 0s 832us/step - loss: 0.0029\n",
      "Epoch 241/250\n",
      "75/75 [==============================] - 0s 823us/step - loss: 0.0022\n",
      "Epoch 242/250\n",
      "75/75 [==============================] - 0s 842us/step - loss: 0.0030\n",
      "Epoch 243/250\n",
      "75/75 [==============================] - 0s 842us/step - loss: 0.0027\n",
      "Epoch 244/250\n",
      "75/75 [==============================] - 0s 809us/step - loss: 0.0027\n",
      "Epoch 245/250\n",
      "75/75 [==============================] - 0s 822us/step - loss: 0.0027\n",
      "Epoch 246/250\n",
      "75/75 [==============================] - 0s 829us/step - loss: 0.0036\n",
      "Epoch 247/250\n",
      "75/75 [==============================] - 0s 816us/step - loss: 0.0024\n",
      "Epoch 248/250\n",
      "75/75 [==============================] - 0s 822us/step - loss: 0.0020\n",
      "Epoch 249/250\n",
      "75/75 [==============================] - 0s 856us/step - loss: 0.0031\n",
      "Epoch 250/250\n",
      "75/75 [==============================] - 0s 829us/step - loss: 0.0021\n"
     ]
    },
    {
     "data": {
      "text/plain": [
       "<keras.callbacks.History at 0x1d099241cc0>"
      ]
     },
     "execution_count": 13,
     "metadata": {},
     "output_type": "execute_result"
    }
   ],
   "source": [
    "# Fitting the RNN to the Training set\n",
    "regressor.fit(trainX, trainY, epochs = 250, batch_size = 50)"
   ]
  },
  {
   "cell_type": "markdown",
   "metadata": {},
   "source": [
    "## Predictions and Visualising RNN Model"
   ]
  },
  {
   "cell_type": "code",
   "execution_count": 14,
   "metadata": {},
   "outputs": [],
   "source": [
    "import math \n",
    "from sklearn.metrics import mean_squared_error\n",
    "\n",
    "trainPredict = regressor.predict(trainX)\n",
    "testPredict = regressor.predict(testX)\n"
   ]
  },
  {
   "cell_type": "code",
   "execution_count": 15,
   "metadata": {},
   "outputs": [
    {
     "data": {
      "text/plain": [
       "(75, 1)"
      ]
     },
     "execution_count": 15,
     "metadata": {},
     "output_type": "execute_result"
    }
   ],
   "source": [
    "trainPredict.shape"
   ]
  },
  {
   "cell_type": "code",
   "execution_count": 16,
   "metadata": {},
   "outputs": [
    {
     "data": {
      "text/plain": [
       "array([[0.0540458 ],\n",
       "       [0.05130783],\n",
       "       [0.05861596],\n",
       "       [0.05916842],\n",
       "       [0.0620775 ],\n",
       "       [0.06752098],\n",
       "       [0.07033191],\n",
       "       [0.07062935],\n",
       "       [0.09841231],\n",
       "       [0.1112143 ]], dtype=float32)"
      ]
     },
     "execution_count": 16,
     "metadata": {},
     "output_type": "execute_result"
    }
   ],
   "source": [
    "trainPredict[:10]"
   ]
  },
  {
   "cell_type": "code",
   "execution_count": 17,
   "metadata": {},
   "outputs": [],
   "source": [
    "# invert predictions\n",
    "trainPredict = scaler.inverse_transform(trainPredict)\n",
    "trainY = scaler.inverse_transform([trainY])\n",
    "testPredict = scaler.inverse_transform(testPredict)\n",
    "testY = scaler.inverse_transform([testY])"
   ]
  },
  {
   "cell_type": "code",
   "execution_count": 18,
   "metadata": {},
   "outputs": [
    {
     "data": {
      "text/plain": [
       "array([[131.99573],\n",
       "       [130.57745],\n",
       "       [134.36307],\n",
       "       [134.64925],\n",
       "       [136.15614],\n",
       "       [138.97586],\n",
       "       [140.43193],\n",
       "       [140.58601],\n",
       "       [154.97757],\n",
       "       [161.60901]], dtype=float32)"
      ]
     },
     "execution_count": 18,
     "metadata": {},
     "output_type": "execute_result"
    }
   ],
   "source": [
    "trainPredict[:10]"
   ]
  },
  {
   "cell_type": "code",
   "execution_count": 19,
   "metadata": {
    "scrolled": true
   },
   "outputs": [
    {
     "name": "stdout",
     "output_type": "stream",
     "text": [
      "Train Score: 15.91 RMSE\n",
      "Test Score: 47.27 RMSE\n"
     ]
    }
   ],
   "source": [
    "# calculate root mean squared error\n",
    "trainScore = math.sqrt(mean_squared_error(trainY[0], trainPredict[:,0]))\n",
    "print('Train Score: %.2f RMSE' % (trainScore))\n",
    "testScore = math.sqrt(mean_squared_error(testY[0], testPredict[:,0]))\n",
    "print('Test Score: %.2f RMSE' % (testScore))\n"
   ]
  },
  {
   "cell_type": "code",
   "execution_count": 20,
   "metadata": {
    "scrolled": true
   },
   "outputs": [
    {
     "data": {
      "text/plain": [
       "[<matplotlib.lines.Line2D at 0x1d1f00ada90>]"
      ]
     },
     "execution_count": 20,
     "metadata": {},
     "output_type": "execute_result"
    },
    {
     "data": {
      "image/png": "[encoded data removed]",
      "text/plain": [
       "<Figure size 432x288 with 1 Axes>"
      ]
     },
     "metadata": {
      "needs_background": "light"
     },
     "output_type": "display_data"
    }
   ],
   "source": [
    "plt.plot(trainPredict)"
   ]
  },
  {
   "cell_type": "code",
   "execution_count": 21,
   "metadata": {},
   "outputs": [
    {
     "data": {
      "text/plain": [
       "[<matplotlib.lines.Line2D at 0x1d1f011c128>]"
      ]
     },
     "execution_count": 21,
     "metadata": {},
     "output_type": "execute_result"
    },
    {
     "data": {
      "image/png": "[encoded data removed]",
      "text/plain": [
       "<Figure size 432x288 with 1 Axes>"
      ]
     },
     "metadata": {
      "needs_background": "light"
     },
     "output_type": "display_data"
    }
   ],
   "source": [
    "plt.plot(testPredict)"
   ]
  },
  {
   "cell_type": "code",
   "execution_count": 25,
   "metadata": {},
   "outputs": [
    {
     "data": {
      "text/plain": [
       "(144,)"
      ]
     },
     "execution_count": 25,
     "metadata": {},
     "output_type": "execute_result"
    }
   ],
   "source": [
    "dataset.shape"
   ]
  },
  {
   "cell_type": "code",
   "execution_count": 22,
   "metadata": {},
   "outputs": [
    {
     "data": {
      "image/png": "[encoded data removed]",
      "text/plain": [
       "<Figure size 432x288 with 1 Axes>"
      ]
     },
     "metadata": {
      "needs_background": "light"
     },
     "output_type": "display_data"
    }
   ],
   "source": [
    "# shifting train\n",
    "trainPredictPlot = np.empty_like(dataset)\n",
    "trainPredictPlot[:, :] = np.nan\n",
    "trainPredictPlot[time_stemp:len(trainPredict)+time_stemp, :] = trainPredict\n",
    "# shifting test predictions for plotting\n",
    "testPredictPlot = np.empty_like(dataset)\n",
    "testPredictPlot[:, :] = np.nan\n",
    "testPredictPlot[len(trainPredict)+(time_stemp*2)+1:len(dataset)-1, :] = testPredict\n",
    "# plot baseline and predictions\n",
    "plt.plot(scaler.inverse_transform(dataset_scaled), color='b',label=\"dataset\")\n",
    "plt.plot(trainPredictPlot, color='r',label=\"training\")\n",
    "plt.plot(testPredictPlot, color='g',label=\"test\")\n",
    "plt.legend()\n",
    "plt.show()"
   ]
  },
  {
   "cell_type": "code",
   "execution_count": 28,
   "metadata": {},
   "outputs": [
    {
     "data": {
      "image/png": "[encoded data removed]",
      "text/plain": [
       "<Figure size 432x288 with 1 Axes>"
      ]
     },
     "metadata": {
      "needs_background": "light"
     },
     "output_type": "display_data"
    }
   ],
   "source": [
    "dataset = data.iloc[:,1].values\n",
    "plt.plot(dataset,label=\"dataset\")\n",
    "plt.xlabel(\"time\")\n",
    "plt.ylabel(\"Number of Passenger\")\n",
    "plt.title(\"international airline passenger\")\n",
    "plt.legend()\n",
    "plt.show()"
   ]
  }
 ],
 "metadata": {
  "kernelspec": {
   "display_name": "Python 3",
   "language": "python",
   "name": "python3"
  },
  "language_info": {
   "codemirror_mode": {
    "name": "ipython",
    "version": 3
   },
   "file_extension": ".py",
   "mimetype": "text/x-python",
   "name": "python",
   "nbconvert_exporter": "python",
   "pygments_lexer": "ipython3",
   "version": "3.7.1"
  }
 },
 "nbformat": 4,
 "nbformat_minor": 2
}

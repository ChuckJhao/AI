{
 "cells": [
  {
   "cell_type": "markdown",
   "metadata": {},
   "source": [
    "## Exercise \n",
    "創建一個RNN網路,能夠預測下一個數字\n"
   ]
  },
  {
   "cell_type": "code",
   "execution_count": 2,
   "metadata": {},
   "outputs": [],
   "source": [
    "# %load simpleRNN.py\n",
    "'''\n",
    " RNN model type: Many to one\n",
    " here, we use sequential model to create a single output tensor,\n",
    " For multi-output layers, use the functional API.\n",
    " https://keras.io/guides/functional_api/\n",
    "'''\n",
    "\n",
    "from numpy import array\n",
    "from keras.models import Sequential\n",
    "from keras.layers import LSTM\n",
    "from keras.layers import Dense\n",
    "from keras.layers import Bidirectional\n",
    "import numpy as np"
   ]
  },
  {
   "cell_type": "code",
   "execution_count": 3,
   "metadata": {},
   "outputs": [],
   "source": [
    "\n",
    "\n",
    "# Function to genate the input\n",
    "# You can try with different input\n",
    "def sequence_generator(typeof):\n",
    "\t# [0, 10, 20, ...]\n",
    "\tif typeof == 'plusten':\n",
    "\t\tsequence = [i for i in range(0, 1500, 10)]\n",
    "\t# [2, 4, 6, ...]\n",
    "\telif typeof == 'double':\n",
    "\t\tsequence = [i*2 for i in range(1, 250)]\n",
    "\t# [1, 4, 9, 25, ...]\n",
    "\telif typeof == 'power':\n",
    "\t\tsequence = [i**2 for i in range(1, 100)]\n",
    "\treturn sequence\n",
    "\n",
    "\n",
    "#  To separate the sequence into input and output ([X] [y])\n",
    "# For example [1, 3, 5, 7, 9, 11] becomes\n",
    "# [1, 3, 5] --> [7]\n",
    "# [3, 5, 7] --> [9]\n",
    "# [5, 7, 9] --> [11] \n",
    "def separate_sequence(sequence, seq_len):\n",
    "\tX, y = list(), list()\n",
    "\tfor i in range(len(sequence)):\n",
    "\t\t# find the end of this pattern\n",
    "\t\tend_ix = i + seq_len\n",
    "\t\t# check if we are beyond the sequence\n",
    "\t\tif end_ix > len(sequence)-1:\n",
    "\t\t\tbreak\n",
    "\t\t# gather input and output parts of the pattern\n",
    "\t\tseq_x, seq_y = sequence[i:end_ix], sequence[end_ix]\n",
    "\t\tX.append(seq_x)\n",
    "\t\ty.append(seq_y)\n",
    "\treturn array(X), array(y)\n",
    " \n",
    "\n",
    "\n"
   ]
  },
  {
   "cell_type": "markdown",
   "metadata": {},
   "source": [
    "## Generate the input sequence"
   ]
  },
  {
   "cell_type": "code",
   "execution_count": 4,
   "metadata": {},
   "outputs": [
    {
     "name": "stdout",
     "output_type": "stream",
     "text": [
      "[0, 10, 20, 30, 40, 50, 60, 70, 80, 90, 100, 110, 120, 130, 140, 150, 160, 170, 180, 190, 200, 210, 220, 230, 240, 250, 260, 270, 280, 290, 300, 310, 320, 330, 340, 350, 360, 370, 380, 390, 400, 410, 420, 430, 440, 450, 460, 470, 480, 490, 500, 510, 520, 530, 540, 550, 560, 570, 580, 590, 600, 610, 620, 630, 640, 650, 660, 670, 680, 690, 700, 710, 720, 730, 740, 750, 760, 770, 780, 790, 800, 810, 820, 830, 840, 850, 860, 870, 880, 890, 900, 910, 920, 930, 940, 950, 960, 970, 980, 990, 1000, 1010, 1020, 1030, 1040, 1050, 1060, 1070, 1080, 1090, 1100, 1110, 1120, 1130, 1140, 1150, 1160, 1170, 1180, 1190, 1200, 1210, 1220, 1230, 1240, 1250, 1260, 1270, 1280, 1290, 1300, 1310, 1320, 1330, 1340, 1350, 1360, 1370, 1380, 1390, 1400, 1410, 1420, 1430, 1440, 1450, 1460, 1470, 1480, 1490]\n",
      "[[ 0 10 20 30]\n",
      " [10 20 30 40]\n",
      " [20 30 40 50]\n",
      " [30 40 50 60]\n",
      " [40 50 60 70]]\n",
      "[40 50 60 70 80]\n",
      "X.shape (146, 4, 1)\n",
      "y.shape (146,)\n"
     ]
    }
   ],
   "source": [
    "time_step = 4\n",
    "n_features = 1\n",
    "\n",
    "t = 'plusten'\n",
    "sq = sequence_generator(t)\n",
    "print (sq)\n",
    "\n",
    "# split into samples\n",
    "X, y = separate_sequence(sq,time_step)\n",
    "\n",
    "# reshape the input into [batch, timesteps, features] to be readable to the network\n",
    "print(X[:5])\n",
    "print(y[:5])\n",
    "X = X.reshape((X.shape[0], X.shape[1], n_features))\n",
    "print('X.shape',X.shape)\n",
    "print('y.shape',y.shape)"
   ]
  },
  {
   "cell_type": "markdown",
   "metadata": {},
   "source": [
    "## create model and train model"
   ]
  },
  {
   "cell_type": "code",
   "execution_count": 5,
   "metadata": {},
   "outputs": [
    {
     "name": "stdout",
     "output_type": "stream",
     "text": [
      "Model: \"sequential\"\n",
      "_________________________________________________________________\n",
      "Layer (type)                 Output Shape              Param #   \n",
      "=================================================================\n",
      "lstm (LSTM)                  (None, 128)               66560     \n",
      "_________________________________________________________________\n",
      "dense (Dense)                (None, 1)                 129       \n",
      "=================================================================\n",
      "Total params: 66,689\n",
      "Trainable params: 66,689\n",
      "Non-trainable params: 0\n",
      "_________________________________________________________________\n"
     ]
    },
    {
     "data": {
      "text/plain": [
       "<tensorflow.python.keras.callbacks.History at 0x26ddb79f400>"
      ]
     },
     "execution_count": 5,
     "metadata": {},
     "output_type": "execute_result"
    }
   ],
   "source": [
    "model = Sequential()\n",
    "#model.add(Bidirectional(LSTM(64, activation='relu'), input_shape=(time_step, n_features)))\n",
    "model.add(LSTM(128, activation='relu',input_shape=(time_step, n_features)))\n",
    "model.add(Dense(1))\n",
    "model.compile(optimizer='adam', loss='mae')\n",
    "model.summary()\n",
    "# fit model\n",
    "model.fit(X, y, epochs=400, batch_size =32,verbose=0)"
   ]
  },
  {
   "cell_type": "markdown",
   "metadata": {},
   "source": [
    "## Test"
   ]
  },
  {
   "cell_type": "code",
   "execution_count": 6,
   "metadata": {},
   "outputs": [
    {
     "name": "stdout",
     "output_type": "stream",
     "text": [
      "[[79.]]\n"
     ]
    }
   ],
   "source": [
    "# Input a sequence and predict\n",
    "x_input = array([39,49,59,69])\n",
    "x_input = x_input.reshape((1, time_step, n_features))\n",
    "yhat = model.predict(x_input, verbose=0)\n",
    "print(np.round(yhat))"
   ]
  },
  {
   "cell_type": "code",
   "execution_count": 7,
   "metadata": {},
   "outputs": [
    {
     "name": "stdout",
     "output_type": "stream",
     "text": [
      "[[[  0]\n",
      "  [ 10]\n",
      "  [ 20]\n",
      "  [ 30]]\n",
      "\n",
      " [[ 10]\n",
      "  [ 20]\n",
      "  [ 30]\n",
      "  [ 40]]\n",
      "\n",
      " [[ 20]\n",
      "  [ 30]\n",
      "  [ 40]\n",
      "  [ 50]]\n",
      "\n",
      " [[ 30]\n",
      "  [ 40]\n",
      "  [ 50]\n",
      "  [ 60]]\n",
      "\n",
      " [[ 40]\n",
      "  [ 50]\n",
      "  [ 60]\n",
      "  [ 70]]\n",
      "\n",
      " [[ 50]\n",
      "  [ 60]\n",
      "  [ 70]\n",
      "  [ 80]]\n",
      "\n",
      " [[ 60]\n",
      "  [ 70]\n",
      "  [ 80]\n",
      "  [ 90]]\n",
      "\n",
      " [[ 70]\n",
      "  [ 80]\n",
      "  [ 90]\n",
      "  [100]]\n",
      "\n",
      " [[ 80]\n",
      "  [ 90]\n",
      "  [100]\n",
      "  [110]]\n",
      "\n",
      " [[ 90]\n",
      "  [100]\n",
      "  [110]\n",
      "  [120]]]\n"
     ]
    },
    {
     "data": {
      "text/plain": [
       "array([[ 40.],\n",
       "       [ 51.],\n",
       "       [ 60.],\n",
       "       [ 70.],\n",
       "       [ 80.],\n",
       "       [ 90.],\n",
       "       [100.],\n",
       "       [110.],\n",
       "       [120.],\n",
       "       [130.]], dtype=float32)"
      ]
     },
     "execution_count": 7,
     "metadata": {},
     "output_type": "execute_result"
    }
   ],
   "source": [
    "print(X[:10])\n",
    "yhat = model.predict(X[:10], verbose=0)\n",
    "np.round(yhat)"
   ]
  },
  {
   "cell_type": "code",
   "execution_count": null,
   "metadata": {},
   "outputs": [],
   "source": []
  },
  {
   "cell_type": "code",
   "execution_count": null,
   "metadata": {},
   "outputs": [],
   "source": []
  }
 ],
 "metadata": {
  "kernelspec": {
   "display_name": "Python 3",
   "language": "python",
   "name": "python3"
  },
  "language_info": {
   "codemirror_mode": {
    "name": "ipython",
    "version": 3
   },
   "file_extension": ".py",
   "mimetype": "text/x-python",
   "name": "python",
   "nbconvert_exporter": "python",
   "pygments_lexer": "ipython3",
   "version": "3.8.3"
  }
 },
 "nbformat": 4,
 "nbformat_minor": 2
}

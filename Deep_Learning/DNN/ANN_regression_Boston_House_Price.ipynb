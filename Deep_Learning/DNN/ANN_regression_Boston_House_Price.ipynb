{
 "cells": [
  {
   "cell_type": "markdown",
   "metadata": {},
   "source": [
    "# House-Price-Prediction - use Neural Network\n",
    "\n",
    "使用Keras/tensorflow Neural Network 來達成波士頓房地產價錢預測\n",
    "\n",
    "    Objectives:\n",
    "    1. Predict the sale price for each house.\n",
    "    2. Minimize the difference between predicted and actual rating (RMSE/MSE)\n",
    "\n",
    "    資料集：波士頓房產\n",
    "    特徵：房地產客觀數據，如年份、平面大小\n",
    "    預測目標：房地產價格\n",
    "    機器學習方法：ANN"
   ]
  },
  {
   "cell_type": "code",
   "execution_count": null,
   "metadata": {},
   "outputs": [],
   "source": [
    "import numpy as np # linear algebra\n",
    "import pandas as pd # data processing, CSV file I/O (e.g. pd.read_csv)\n",
    "import matplotlib.pyplot as plt\n",
    "from keras.datasets import boston_housing\n",
    "from sklearn.metrics import mean_squared_error\n",
    "import keras\n",
    "from sklearn.metrics import r2_score"
   ]
  },
  {
   "cell_type": "code",
   "execution_count": null,
   "metadata": {
    "scrolled": false
   },
   "outputs": [],
   "source": [
    "data=pd.read_csv('Boston.csv',index_col=0)\n",
    "print(data.shape)\n",
    "x=data.drop(['medv'], axis=1)\n",
    "y=data['medv']\n",
    "data.head(10)\n",
    "y.shape"
   ]
  },
  {
   "cell_type": "code",
   "execution_count": null,
   "metadata": {},
   "outputs": [],
   "source": [
    "from sklearn.model_selection import train_test_split\n",
    "X_train, X_test, y_train, y_test = train_test_split(x, y, test_size=0.2, random_state=5)"
   ]
  },
  {
   "cell_type": "code",
   "execution_count": null,
   "metadata": {},
   "outputs": [],
   "source": [
    "\n",
    "# Note that the quantities used for normalizing the test data are computed using the\n",
    "# training data. You should never use in your workflow any quantity computed on the\n",
    "# test data, even for something as simple as data normalization.\n",
    "\n",
    "mean = X_train.mean(axis=0)\n",
    "\n",
    "X_train -= mean\n",
    "std = X_train.std(axis=0)\n",
    "X_train /= std\n",
    "\n",
    "X_test -= mean\n",
    "X_test /= std\n",
    "print('mean:',mean);"
   ]
  },
  {
   "cell_type": "code",
   "execution_count": null,
   "metadata": {},
   "outputs": [],
   "source": [
    "from keras import models\n",
    "from keras import layers\n",
    "\n",
    "def build_model():\n",
    "    model = models.Sequential()\n",
    "    model.add(layers.Dense(64, activation='relu', input_shape=(X_train.shape[1],)))\n",
    "    model.add(layers.Dense(64, activation='relu'))\n",
    "    model.add(layers.Dense(1))\n",
    "\n",
    "    model.compile(optimizer='adam', #adam,sgd,rmsprop\n",
    "              loss='mse',\n",
    "              metrics=[r2_score]) \n",
    "    return model"
   ]
  },
  {
   "cell_type": "code",
   "execution_count": null,
   "metadata": {
    "scrolled": true
   },
   "outputs": [],
   "source": [
    "model = build_model()\n",
    "model.summary()\n"
   ]
  },
  {
   "cell_type": "markdown",
   "metadata": {},
   "source": [
    "https://www.tensorflow.org/api_docs/python/tf/keras/callbacks/Callback#methods_2"
   ]
  },
  {
   "cell_type": "code",
   "execution_count": null,
   "metadata": {},
   "outputs": [],
   "source": [
    "\n",
    "\n",
    "class Metrics(keras.callbacks.Callback):\n",
    "    def on_train_begin(self, logs={}):\n",
    "        self._data = []\n",
    "\n",
    "    def on_epoch_end(self, batch, logs={}):\n",
    "\n",
    "        X_val, y_val = self.val_data[0], self.val_data[1]\n",
    "        y_predict = np.asarray(model.predict(X_val))\n",
    "        self._data.append({\n",
    "            'val_r2_score': r2_score(y_val, y_predict),\n",
    "            'val_mse':mse(y_val, y_predict),\n",
    "        })\n",
    "        return\n",
    "\n",
    "    def get_data(self):\n",
    "        return self._data\n",
    "\n",
    "metrics = Metrics()"
   ]
  },
  {
   "cell_type": "code",
   "execution_count": null,
   "metadata": {},
   "outputs": [],
   "source": [
    "X_train.shape"
   ]
  },
  {
   "cell_type": "code",
   "execution_count": null,
   "metadata": {},
   "outputs": [],
   "source": [
    "y_train.shape"
   ]
  },
  {
   "cell_type": "code",
   "execution_count": null,
   "metadata": {
    "scrolled": true
   },
   "outputs": [],
   "source": [
    "#train_history=model.fit(X_train, y_train, epochs=50, batch_size=16, verbose=2)\n",
    "train_history=model.fit(X_train, y_train, epochs=100, batch_size=16, verbose=2 ,validation_split=0.2,shuffle=True) #, callbacks=[metrics]);  #shuffle default is true"
   ]
  },
  {
   "cell_type": "code",
   "execution_count": null,
   "metadata": {},
   "outputs": [],
   "source": [
    "r2_score(y_train,model.predict(X_train))"
   ]
  },
  {
   "cell_type": "code",
   "execution_count": null,
   "metadata": {},
   "outputs": [],
   "source": [
    "r2_score(y_test,model.predict(X_test))"
   ]
  },
  {
   "cell_type": "code",
   "execution_count": null,
   "metadata": {},
   "outputs": [],
   "source": [
    "import matplotlib.pyplot as plt\n",
    "\n",
    "plt.figure(figsize=(18,4))\n",
    "plt.subplot(1, 2, 1)\n",
    "\n",
    "plt.suptitle('Optimizer : rmsprop', fontsize=12)\n",
    "'''\n",
    "plt.ylabel('R2 Score', fontsize=20)\n",
    "score=metrics.get_data()\n",
    "r2_score=[score[x]['val_r2_score'] for x in range(len(score)) ]\n",
    "plt.plot(r2_score, color='r', label='R2 Score')\n",
    "plt.legend(loc='lower right')\n",
    "'''\n",
    "plt.subplot(1, 2, 2)\n",
    "plt.ylabel('Loss', fontsize=20)\n",
    "plt.plot(train_history.history['loss'], color='b', label='Training Loss')\n",
    "plt.plot(train_history.history['val_loss'], color='r', label='Validation Loss')\n",
    "plt.legend(loc='upper right')\n",
    "plt.show()"
   ]
  },
  {
   "cell_type": "code",
   "execution_count": null,
   "metadata": {},
   "outputs": [],
   "source": [
    "def mse(predictions,y):\n",
    "    m = len(y)\n",
    "    cost =(1/m) * np.sum((predictions-y)**2)\n",
    "    return cost\n",
    "\n"
   ]
  },
  {
   "cell_type": "code",
   "execution_count": null,
   "metadata": {
    "scrolled": true
   },
   "outputs": [],
   "source": [
    "mse(model.predict(X_train.values),y_train.values.reshape(-1,1))"
   ]
  },
  {
   "cell_type": "code",
   "execution_count": null,
   "metadata": {},
   "outputs": [],
   "source": [
    "train_mse_score,train_mse_score = model.evaluate(X_train, y_train)\n",
    "train_mse_score"
   ]
  },
  {
   "cell_type": "code",
   "execution_count": null,
   "metadata": {},
   "outputs": [],
   "source": [
    "test_mse_score, test_mae_score = model.evaluate(X_test, y_test)\n",
    "test_mse_score"
   ]
  },
  {
   "cell_type": "code",
   "execution_count": null,
   "metadata": {
    "scrolled": true
   },
   "outputs": [],
   "source": [
    "model.predict(X_test[:10])"
   ]
  },
  {
   "cell_type": "code",
   "execution_count": null,
   "metadata": {},
   "outputs": [],
   "source": [
    "y_test.values[:10]"
   ]
  },
  {
   "cell_type": "code",
   "execution_count": null,
   "metadata": {},
   "outputs": [],
   "source": [
    "def scatter_plot(predict_data, actual_data,size):\n",
    "    plt.title('scatter plot',fontsize='large') #set title\n",
    "    #plt.scatter(np.arange(size),actual_data,label='real y')  #set size : s=3; \n",
    "    #plt.scatter(np.arange(size),predict_data,label='predicted y')\n",
    "    #plt.legend(loc='lower right')\n",
    "    plt.scatter(actual_data,predict_data)\n",
    "    plt.plot([actual_data.min(), actual_data.max()], [actual_data.min(), actual_data.max()], 'r', lw=2)\n",
    "    plt.xlabel('actual y')\n",
    "    plt.ylabel('predicted y')\n",
    "    plt.grid(b=True, linewidth=0.3)\n",
    "    print(\"size:\",size)\n",
    "    print(\"mse:\",mean_squared_error(predict_data, actual_data))"
   ]
  },
  {
   "cell_type": "code",
   "execution_count": null,
   "metadata": {
    "scrolled": true
   },
   "outputs": [],
   "source": [
    "#ploting for all training data \n",
    "scatter_plot(model.predict(X_train),y_train.values,len(y_train))"
   ]
  },
  {
   "cell_type": "code",
   "execution_count": null,
   "metadata": {
    "scrolled": true
   },
   "outputs": [],
   "source": [
    "#ploting for training data \n",
    "scatter_plot(model.predict(X_train[:30]),y_train[:30],len(y_train[:30]))"
   ]
  },
  {
   "cell_type": "code",
   "execution_count": null,
   "metadata": {
    "scrolled": true
   },
   "outputs": [],
   "source": [
    "#ploting for test data \n",
    "scatter_plot(model.predict(X_test),y_test,len(y_test))"
   ]
  },
  {
   "cell_type": "code",
   "execution_count": null,
   "metadata": {},
   "outputs": [],
   "source": [
    "y_test.values.shape"
   ]
  },
  {
   "cell_type": "code",
   "execution_count": null,
   "metadata": {},
   "outputs": [],
   "source": [
    "predictions=model.predict(X_test.values)\n",
    "np.ravel(predictions)"
   ]
  },
  {
   "cell_type": "code",
   "execution_count": null,
   "metadata": {
    "scrolled": true
   },
   "outputs": [],
   "source": [
    "import seaborn as sns\n",
    "predictions=model.predict(X_test.values)\n",
    "error = y_test.values - np.ravel(predictions)\n",
    "print(np.mean(error))\n",
    "\n",
    "print(np.std(error))\n",
    "sns.distplot(error)  #誤差分佈 "
   ]
  },
  {
   "cell_type": "code",
   "execution_count": null,
   "metadata": {},
   "outputs": [],
   "source": [
    "error"
   ]
  },
  {
   "cell_type": "code",
   "execution_count": null,
   "metadata": {},
   "outputs": [],
   "source": []
  }
 ],
 "metadata": {
  "kernelspec": {
   "display_name": "Python 3",
   "language": "python",
   "name": "python3"
  },
  "language_info": {
   "codemirror_mode": {
    "name": "ipython",
    "version": 3
   },
   "file_extension": ".py",
   "mimetype": "text/x-python",
   "name": "python",
   "nbconvert_exporter": "python",
   "pygments_lexer": "ipython3",
   "version": "3.8.3"
  }
 },
 "nbformat": 4,
 "nbformat_minor": 2
}
